{
 "cells": [
  {
   "cell_type": "code",
   "execution_count": null,
   "metadata": {},
   "outputs": [],
   "source": [
    "# | default_exp aws"
   ]
  },
  {
   "cell_type": "markdown",
   "metadata": {},
   "source": [
    "# AWS Tools\n",
    "\n",
    "> Tools to interact with the Amazon Web Services (AWS) API.\n"
   ]
  },
  {
   "cell_type": "code",
   "execution_count": null,
   "metadata": {},
   "outputs": [],
   "source": [
    "# | hide\n",
    "from nbdev.showdoc import *"
   ]
  },
  {
   "cell_type": "code",
   "execution_count": null,
   "metadata": {},
   "outputs": [],
   "source": [
    "# | export\n",
    "import zipfile\n",
    "import boto3\n",
    "import tempfile\n",
    "import shutil\n",
    "import os"
   ]
  },
  {
   "cell_type": "code",
   "execution_count": null,
   "metadata": {},
   "outputs": [],
   "source": [
    "# | export\n",
    "class AwsClient:\n",
    "    \"\"\"\n",
    "    A client for interacting with AWS services, specifically for operations related to Amazon S3.\n",
    "    \"\"\"\n",
    "\n",
    "    def __init__(self, aws_access_key_id: str, aws_secret_access_key: str, region_name: str):\n",
    "        \"\"\"\n",
    "        Initializes the client with AWS credentials and region information.\n",
    "\n",
    "        Args:\n",
    "            aws_access_key_id (str): AWS access key ID.\n",
    "            aws_secret_access_key (str): AWS secret access key.\n",
    "            region_name (str): AWS region name.\n",
    "        \"\"\"\n",
    "        self.s3 = boto3.client(\n",
    "            's3',\n",
    "            aws_access_key_id=aws_access_key_id,\n",
    "            aws_secret_access_key=aws_secret_access_key,\n",
    "            region_name=region_name\n",
    "        )\n",
    "\n",
    "    def upload_to_s3(self, file_path: str, bucket_name: str, object_name: str):\n",
    "        \"\"\"\n",
    "        Uploads a file to an Amazon S3 bucket.\n",
    "\n",
    "        Args:\n",
    "            file_path (str): Local path to the file.\n",
    "            bucket_name (str): Name of the S3 bucket.\n",
    "            object_name (str): Object name in the S3 bucket (i.e., S3 key).\n",
    "        \"\"\"\n",
    "        self.s3.upload_file(file_path, bucket_name, object_name)\n",
    "\n",
    "    def extract_zip_with_correct_encoding(self, zip_file_path: str, extract_to_path: str, encoding: str = 'cp437'):\n",
    "        \"\"\"\n",
    "        Extracts a ZIP file with specific encoding for the file names.\n",
    "\n",
    "        Args:\n",
    "            zip_file_path (str): Path to the ZIP file.\n",
    "            extract_to_path (str): Path to extract the ZIP contents to.\n",
    "            encoding (str, optional): Encoding to use for file names. Defaults to 'cp437'.\n",
    "        \"\"\"\n",
    "        with zipfile.ZipFile(zip_file_path, 'r') as zip_ref:\n",
    "            for member in zip_ref.infolist():\n",
    "                # ファイル名のエンコーディングを修正\n",
    "                file_name = member.filename.encode('cp437').decode(encoding)\n",
    "                target_path = os.path.join(extract_to_path, file_name)\n",
    "                \n",
    "                # ディレクトリの場合は作成\n",
    "                if member.is_dir():\n",
    "                    os.makedirs(target_path, exist_ok=True)\n",
    "                else:\n",
    "                    # ファイルを展開\n",
    "                    with zip_ref.open(member, 'r') as source, open(target_path, 'wb') as target:\n",
    "                        shutil.copyfileobj(source, target)\n",
    "\n",
    "    def upload_to_s3_zip(self, zip_file_path: str, dst_path: str, bucket_name: str):\n",
    "        \"\"\"\n",
    "        Extracts a ZIP file and uploads its contents to an Amazon S3 bucket.\n",
    "\n",
    "        Args:\n",
    "            zip_file_path (str): Path to the ZIP file.\n",
    "            dst_path (str): Destination path in the S3 bucket.\n",
    "            bucket_name (str): Name of the S3 bucket.\n",
    "        \"\"\"\n",
    "\n",
    "        with tempfile.TemporaryDirectory() as tmpdirname:\n",
    "            # Extract the ZIP file\n",
    "            with zipfile.ZipFile(zip_file_path, 'r') as zip_ref:\n",
    "                zip_ref.extractall(tmpdirname)\n",
    "\n",
    "            # Upload the extracted files to S3\n",
    "            for root, dirs, files in os.walk(tmpdirname):\n",
    "                for file in files:\n",
    "                    local_path = os.path.join(root, file)\n",
    "\n",
    "                    s3_path = os.path.join(dst_path, os.path.relpath(local_path, tmpdirname)).replace(\"\\\\\", \"/\")\n",
    "\n",
    "                    # Perform the actual upload\n",
    "                    self.s3.upload_file(local_path, bucket_name, s3_path)"
   ]
  },
  {
   "cell_type": "code",
   "execution_count": null,
   "metadata": {},
   "outputs": [
    {
     "data": {
      "text/markdown": [
       "---\n",
       "\n",
       "[source](https://github.com/nakamura196/archivematica_tools/blob/main/archivematica_tools/aws.py#L14){target=\"_blank\" style=\"float:right; font-size:smaller\"}\n",
       "\n",
       "### AwsClient\n",
       "\n",
       ">      AwsClient (aws_access_key_id:str, aws_secret_access_key:str,\n",
       ">                 region_name:str)\n",
       "\n",
       "A client for interacting with AWS services, specifically for operations related to Amazon S3."
      ],
      "text/plain": [
       "---\n",
       "\n",
       "[source](https://github.com/nakamura196/archivematica_tools/blob/main/archivematica_tools/aws.py#L14){target=\"_blank\" style=\"float:right; font-size:smaller\"}\n",
       "\n",
       "### AwsClient\n",
       "\n",
       ">      AwsClient (aws_access_key_id:str, aws_secret_access_key:str,\n",
       ">                 region_name:str)\n",
       "\n",
       "A client for interacting with AWS services, specifically for operations related to Amazon S3."
      ]
     },
     "execution_count": null,
     "metadata": {},
     "output_type": "execute_result"
    }
   ],
   "source": [
    "show_doc(AwsClient)"
   ]
  },
  {
   "cell_type": "markdown",
   "metadata": {},
   "source": [
    "# Upload"
   ]
  },
  {
   "cell_type": "code",
   "execution_count": null,
   "metadata": {},
   "outputs": [
    {
     "data": {
      "text/markdown": [
       "---\n",
       "\n",
       "[source](https://github.com/nakamura196/archivematica_tools/blob/main/archivematica_tools/aws.py#L35){target=\"_blank\" style=\"float:right; font-size:smaller\"}\n",
       "\n",
       "### AwsClient.upload_to_s3\n",
       "\n",
       ">      AwsClient.upload_to_s3 (file_path:str, bucket_name:str, object_name:str)\n",
       "\n",
       "Uploads a file to an Amazon S3 bucket.\n",
       "\n",
       "Args:\n",
       "    file_path (str): Local path to the file.\n",
       "    bucket_name (str): Name of the S3 bucket.\n",
       "    object_name (str): Object name in the S3 bucket (i.e., S3 key)."
      ],
      "text/plain": [
       "---\n",
       "\n",
       "[source](https://github.com/nakamura196/archivematica_tools/blob/main/archivematica_tools/aws.py#L35){target=\"_blank\" style=\"float:right; font-size:smaller\"}\n",
       "\n",
       "### AwsClient.upload_to_s3\n",
       "\n",
       ">      AwsClient.upload_to_s3 (file_path:str, bucket_name:str, object_name:str)\n",
       "\n",
       "Uploads a file to an Amazon S3 bucket.\n",
       "\n",
       "Args:\n",
       "    file_path (str): Local path to the file.\n",
       "    bucket_name (str): Name of the S3 bucket.\n",
       "    object_name (str): Object name in the S3 bucket (i.e., S3 key)."
      ]
     },
     "execution_count": null,
     "metadata": {},
     "output_type": "execute_result"
    }
   ],
   "source": [
    "show_doc(AwsClient.upload_to_s3)"
   ]
  },
  {
   "cell_type": "markdown",
   "metadata": {},
   "source": [
    "# Zip"
   ]
  },
  {
   "cell_type": "code",
   "execution_count": null,
   "metadata": {},
   "outputs": [
    {
     "data": {
      "text/markdown": [
       "---\n",
       "\n",
       "[source](https://github.com/nakamura196/archivematica_tools/blob/main/archivematica_tools/aws.py#L46){target=\"_blank\" style=\"float:right; font-size:smaller\"}\n",
       "\n",
       "### AwsClient.extract_zip_with_correct_encoding\n",
       "\n",
       ">      AwsClient.extract_zip_with_correct_encoding (zip_file_path:str,\n",
       ">                                                   extract_to_path:str,\n",
       ">                                                   encoding:str='cp437')\n",
       "\n",
       "Extracts a ZIP file with specific encoding for the file names.\n",
       "\n",
       "Args:\n",
       "    zip_file_path (str): Path to the ZIP file.\n",
       "    extract_to_path (str): Path to extract the ZIP contents to.\n",
       "    encoding (str, optional): Encoding to use for file names. Defaults to 'cp437'."
      ],
      "text/plain": [
       "---\n",
       "\n",
       "[source](https://github.com/nakamura196/archivematica_tools/blob/main/archivematica_tools/aws.py#L46){target=\"_blank\" style=\"float:right; font-size:smaller\"}\n",
       "\n",
       "### AwsClient.extract_zip_with_correct_encoding\n",
       "\n",
       ">      AwsClient.extract_zip_with_correct_encoding (zip_file_path:str,\n",
       ">                                                   extract_to_path:str,\n",
       ">                                                   encoding:str='cp437')\n",
       "\n",
       "Extracts a ZIP file with specific encoding for the file names.\n",
       "\n",
       "Args:\n",
       "    zip_file_path (str): Path to the ZIP file.\n",
       "    extract_to_path (str): Path to extract the ZIP contents to.\n",
       "    encoding (str, optional): Encoding to use for file names. Defaults to 'cp437'."
      ]
     },
     "execution_count": null,
     "metadata": {},
     "output_type": "execute_result"
    }
   ],
   "source": [
    "show_doc(AwsClient.extract_zip_with_correct_encoding)"
   ]
  },
  {
   "cell_type": "code",
   "execution_count": null,
   "metadata": {},
   "outputs": [
    {
     "data": {
      "text/markdown": [
       "---\n",
       "\n",
       "[source](https://github.com/nakamura196/archivematica_tools/blob/main/archivematica_tools/aws.py#L69){target=\"_blank\" style=\"float:right; font-size:smaller\"}\n",
       "\n",
       "### AwsClient.upload_to_s3_zip\n",
       "\n",
       ">      AwsClient.upload_to_s3_zip (zip_file_path:str, dst_path:str,\n",
       ">                                  bucket_name:str)\n",
       "\n",
       "Extracts a ZIP file and uploads its contents to an Amazon S3 bucket.\n",
       "\n",
       "Args:\n",
       "    zip_file_path (str): Path to the ZIP file.\n",
       "    dst_path (str): Destination path in the S3 bucket.\n",
       "    bucket_name (str): Name of the S3 bucket."
      ],
      "text/plain": [
       "---\n",
       "\n",
       "[source](https://github.com/nakamura196/archivematica_tools/blob/main/archivematica_tools/aws.py#L69){target=\"_blank\" style=\"float:right; font-size:smaller\"}\n",
       "\n",
       "### AwsClient.upload_to_s3_zip\n",
       "\n",
       ">      AwsClient.upload_to_s3_zip (zip_file_path:str, dst_path:str,\n",
       ">                                  bucket_name:str)\n",
       "\n",
       "Extracts a ZIP file and uploads its contents to an Amazon S3 bucket.\n",
       "\n",
       "Args:\n",
       "    zip_file_path (str): Path to the ZIP file.\n",
       "    dst_path (str): Destination path in the S3 bucket.\n",
       "    bucket_name (str): Name of the S3 bucket."
      ]
     },
     "execution_count": null,
     "metadata": {},
     "output_type": "execute_result"
    }
   ],
   "source": [
    "show_doc(AwsClient.upload_to_s3_zip)"
   ]
  },
  {
   "cell_type": "code",
   "execution_count": null,
   "metadata": {},
   "outputs": [],
   "source": [
    "#| hide\n",
    "import nbdev; nbdev.nbdev_export()"
   ]
  }
 ],
 "metadata": {
  "kernelspec": {
   "display_name": "python3",
   "language": "python",
   "name": "python3"
  }
 },
 "nbformat": 4,
 "nbformat_minor": 2
}
