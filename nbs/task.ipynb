{
    "cells": [
        {
            "cell_type": "code",
            "execution_count": null,
            "metadata": {},
            "outputs": [],
            "source": [
                "# | default_exp task"
            ]
        },
        {
            "cell_type": "markdown",
            "metadata": {},
            "source": [
                "# Task\n",
                "\n",
                "> Tasks to interact with the Archivematica REST API\n"
            ]
        },
        {
            "cell_type": "code",
            "execution_count": null,
            "metadata": {},
            "outputs": [],
            "source": [
                "# | hide\n",
                "from nbdev.showdoc import *\n",
                "%load_ext autoreload\n",
                "%autoreload 2"
            ]
        },
        {
            "cell_type": "code",
            "execution_count": null,
            "metadata": {},
            "outputs": [],
            "source": [
                "# | export\n",
                "from archivematica_tools.api import ArchivematicaAPIClient\n",
                "from archivematica_tools.aws import AwsClient\n",
                "from typing import Optional"
            ]
        },
        {
            "cell_type": "code",
            "execution_count": null,
            "metadata": {},
            "outputs": [],
            "source": [
                "# | export\n",
                "class Task:\n",
                "\n",
                "    def __init__(self, dashboard_url: str, dashboard_username: str, dashboard_api_key: str,\n",
                "                 storage_service_url: str, storage_service_username: str, storage_service_password: str,\n",
                "                 aws_access_key_id: str, aws_secret_access_key: str):\n",
                "        \"\"\"\n",
                "        Task クラスのコンストラクタ。Matica APIとAWS S3クライアントの初期化を行う。\n",
                "\n",
                "        Args:\n",
                "            dashboard_url (str): MaticaダッシュボードのURL。\n",
                "            dashboard_username (str): Maticaダッシュボードのユーザー名。\n",
                "            dashboard_api_key (str): MaticaダッシュボードのAPIキー。\n",
                "            storage_service_url (str): ストレージサービスのURL。\n",
                "            storage_service_username (str): ストレージサービスのユーザー名。\n",
                "            storage_service_password (str): ストレージサービスのパスワード。\n",
                "            aws_access_key_id (str): AWSアクセスキーID。\n",
                "            aws_secret_access_key (str): AWSシークレットアクセスキー。\n",
                "        \"\"\"\n",
                "        self.matica_client = ArchivematicaAPIClient(dashboard_url, dashboard_username, dashboard_api_key,\n",
                "                                             storage_service_url, storage_service_username, storage_service_password)\n",
                "        self.aws_client = AwsClient(aws_access_key_id, aws_secret_access_key, \"us-east-1\")\n",
                "\n",
                "    @staticmethod\n",
                "    def ensure_slash_suffix(s: str) -> str:\n",
                "        \"\"\"指定された文字列の末尾にスラッシュがなければ追加する\n",
                "\n",
                "        Args:\n",
                "            s (str): 処理する文字列\n",
                "\n",
                "        Returns:\n",
                "            str: 末尾にスラッシュが保証された文字列\n",
                "        \"\"\"\n",
                "        return s if s.endswith('/') else f'{s}/'\n",
                "\n",
                "    @staticmethod\n",
                "    def main(dashboard_url: str, dashboard_username: str, dashboard_api_key: str,\n",
                "             storage_service_url: str, storage_service_username: str, storage_service_password: str,\n",
                "             aws_access_key_id: str, aws_secret_access_key: str, task_id: str, transfer_type: str, \n",
                "             transfer_name: str, file_path: str, location_uuid: str, processing_config: str, \n",
                "             bucket_name: str, transfer_source_prefix: str) -> Optional[str]:\n",
                "        \"\"\"\n",
                "        メインの処理を実行する静的メソッド。ZIPファイルをS3にアップロードし、Maticaでの処理をトリガーする。\n",
                "\n",
                "        Args:\n",
                "            以下の引数は __init__ メソッドと同様。\n",
                "            task_id (str): タスクID。\n",
                "            transfer_type (str): 転送タイプ。\n",
                "            transfer_name (str): 転送名。\n",
                "            file_path (str): ファイルパス。\n",
                "            location_uuid (str): 位置UUID。\n",
                "            processing_config (str): 処理設定。\n",
                "            bucket_name (str): バケット名。\n",
                "            transfer_source_prefix (str): 転送ソースプレフィックス。\n",
                "\n",
                "        Returns:\n",
                "            Optional[str]: 成功時には処理されたファイルのURLを返し、失敗時にはNoneを返す。\n",
                "        \"\"\"\n",
                "        \n",
                "        task = Task(dashboard_url, \n",
                "        dashboard_username,\n",
                "        dashboard_api_key,\n",
                "        storage_service_url,\n",
                "        storage_service_username,\n",
                "        storage_service_password,\n",
                "        aws_access_key_id,\n",
                "        aws_secret_access_key)\n",
                "\n",
                "        matica_client = task.matica_client\n",
                "\n",
                "        transfer_source_prefix = Task.ensure_slash_suffix(transfer_source_prefix)\n",
                "        s3_path = f\"{transfer_source_prefix}{task_id}\"\n",
                "\n",
                "        # bucket_name = \"archivematica.aws.ldas.jp\"\n",
                "        # bucket_name\n",
                "\n",
                "        task.aws_client.upload_to_s3_zip(file_path, s3_path, bucket_name)\n",
                "\n",
                "        # location_uuid = \"8ba875f0-0e78-4c98-a608-751a362e3194\"\n",
                "        # processing_config = \"automated\"\n",
                "\n",
                "        transfer_UUID = task.matica_client.v2beta_package(transfer_type, \"\", location_uuid, \"/\" + s3_path, transfer_name, processing_config)\n",
                "\n",
                "        sip_UUID = matica_client.check_transfer_status(transfer_UUID)\n",
                "        ingest_UUID = matica_client.ingest(sip_UUID)\n",
                "\n",
                "        url = \"https://s3.amazonaws.com/\" + bucket_name + matica_client.get_current_full_path(ingest_UUID)\n",
                "\n",
                "        return url"
            ]
        },
        {
            "cell_type": "code",
            "execution_count": null,
            "metadata": {},
            "outputs": [
                {
                    "data": {
                        "text/markdown": [
                            "---\n",
                            "\n",
                            "[source](https://github.com/nakamura196/matica_tools/blob/main/matica_tools/task.py#L13){target=\"_blank\" style=\"float:right; font-size:smaller\"}\n",
                            "\n",
                            "### Task\n",
                            "\n",
                            ">      Task (dashboard_url:str, dashboard_username:str, dashboard_api_key:str,\n",
                            ">            storage_service_url:str, storage_service_username:str,\n",
                            ">            storage_service_password:str, aws_access_key_id:str,\n",
                            ">            aws_secret_access_key:str)\n",
                            "\n",
                            "Task クラスのコンストラクタ。Matica APIとAWS S3クライアントの初期化を行う。\n",
                            "\n",
                            "Args:\n",
                            "    dashboard_url (str): MaticaダッシュボードのURL。\n",
                            "    dashboard_username (str): Maticaダッシュボードのユーザー名。\n",
                            "    dashboard_api_key (str): MaticaダッシュボードのAPIキー。\n",
                            "    storage_service_url (str): ストレージサービスのURL。\n",
                            "    storage_service_username (str): ストレージサービスのユーザー名。\n",
                            "    storage_service_password (str): ストレージサービスのパスワード。\n",
                            "    aws_access_key_id (str): AWSアクセスキーID。\n",
                            "    aws_secret_access_key (str): AWSシークレットアクセスキー。"
                        ],
                        "text/plain": [
                            "---\n",
                            "\n",
                            "[source](https://github.com/nakamura196/matica_tools/blob/main/matica_tools/task.py#L13){target=\"_blank\" style=\"float:right; font-size:smaller\"}\n",
                            "\n",
                            "### Task\n",
                            "\n",
                            ">      Task (dashboard_url:str, dashboard_username:str, dashboard_api_key:str,\n",
                            ">            storage_service_url:str, storage_service_username:str,\n",
                            ">            storage_service_password:str, aws_access_key_id:str,\n",
                            ">            aws_secret_access_key:str)\n",
                            "\n",
                            "Task クラスのコンストラクタ。Matica APIとAWS S3クライアントの初期化を行う。\n",
                            "\n",
                            "Args:\n",
                            "    dashboard_url (str): MaticaダッシュボードのURL。\n",
                            "    dashboard_username (str): Maticaダッシュボードのユーザー名。\n",
                            "    dashboard_api_key (str): MaticaダッシュボードのAPIキー。\n",
                            "    storage_service_url (str): ストレージサービスのURL。\n",
                            "    storage_service_username (str): ストレージサービスのユーザー名。\n",
                            "    storage_service_password (str): ストレージサービスのパスワード。\n",
                            "    aws_access_key_id (str): AWSアクセスキーID。\n",
                            "    aws_secret_access_key (str): AWSシークレットアクセスキー。"
                        ]
                    },
                    "execution_count": null,
                    "metadata": {},
                    "output_type": "execute_result"
                }
            ],
            "source": [
                "show_doc(Task)"
            ]
        },
        {
            "cell_type": "markdown",
            "metadata": {},
            "source": [
                "# Main"
            ]
        },
        {
            "cell_type": "code",
            "execution_count": null,
            "metadata": {},
            "outputs": [
                {
                    "data": {
                        "text/markdown": [
                            "---\n",
                            "\n",
                            "[source](https://github.com/nakamura196/matica_tools/blob/main/matica_tools/task.py#L30){target=\"_blank\" style=\"float:right; font-size:smaller\"}\n",
                            "\n",
                            "### Task.main\n",
                            "\n",
                            ">      Task.main (dashboard_url:str, dashboard_username:str,\n",
                            ">                 dashboard_api_key:str, storage_service_url:str,\n",
                            ">                 storage_service_username:str, storage_service_password:str,\n",
                            ">                 aws_access_key_id:str, aws_secret_access_key:str, task_id:str,\n",
                            ">                 transfer_type:str, transfer_name:str, file_path:str,\n",
                            ">                 location_uuid:str, processing_config:str, bucket_name:str,\n",
                            ">                 transfer_source_prefix:str)\n",
                            "\n",
                            "メインの処理を実行する静的メソッド。ZIPファイルをS3にアップロードし、Maticaでの処理をトリガーする。\n",
                            "\n",
                            "Args:\n",
                            "    以下の引数は __init__ メソッドと同様。\n",
                            "    task_id (str): タスクID。\n",
                            "    transfer_type (str): 転送タイプ。\n",
                            "    transfer_name (str): 転送名。\n",
                            "    file_path (str): ファイルパス。\n",
                            "    location_uuid (str): 位置UUID。\n",
                            "    processing_config (str): 処理設定。\n",
                            "    bucket_name (str): バケット名。\n",
                            "    transfer_source_prefix (str): 転送ソースプレフィックス。\n",
                            "\n",
                            "Returns:\n",
                            "    Optional[str]: 成功時には処理されたファイルのURLを返し、失敗時にはNoneを返す。"
                        ],
                        "text/plain": [
                            "---\n",
                            "\n",
                            "[source](https://github.com/nakamura196/matica_tools/blob/main/matica_tools/task.py#L30){target=\"_blank\" style=\"float:right; font-size:smaller\"}\n",
                            "\n",
                            "### Task.main\n",
                            "\n",
                            ">      Task.main (dashboard_url:str, dashboard_username:str,\n",
                            ">                 dashboard_api_key:str, storage_service_url:str,\n",
                            ">                 storage_service_username:str, storage_service_password:str,\n",
                            ">                 aws_access_key_id:str, aws_secret_access_key:str, task_id:str,\n",
                            ">                 transfer_type:str, transfer_name:str, file_path:str,\n",
                            ">                 location_uuid:str, processing_config:str, bucket_name:str,\n",
                            ">                 transfer_source_prefix:str)\n",
                            "\n",
                            "メインの処理を実行する静的メソッド。ZIPファイルをS3にアップロードし、Maticaでの処理をトリガーする。\n",
                            "\n",
                            "Args:\n",
                            "    以下の引数は __init__ メソッドと同様。\n",
                            "    task_id (str): タスクID。\n",
                            "    transfer_type (str): 転送タイプ。\n",
                            "    transfer_name (str): 転送名。\n",
                            "    file_path (str): ファイルパス。\n",
                            "    location_uuid (str): 位置UUID。\n",
                            "    processing_config (str): 処理設定。\n",
                            "    bucket_name (str): バケット名。\n",
                            "    transfer_source_prefix (str): 転送ソースプレフィックス。\n",
                            "\n",
                            "Returns:\n",
                            "    Optional[str]: 成功時には処理されたファイルのURLを返し、失敗時にはNoneを返す。"
                        ]
                    },
                    "execution_count": null,
                    "metadata": {},
                    "output_type": "execute_result"
                }
            ],
            "source": [
                "show_doc(Task.main)"
            ]
        },
        {
            "cell_type": "code",
            "execution_count": null,
            "metadata": {},
            "outputs": [],
            "source": [
                "#| hide\n",
                "import nbdev; nbdev.nbdev_export()"
            ]
        }
    ],
    "metadata": {
        "kernelspec": {
            "display_name": "python3",
            "language": "python",
            "name": "python3"
        }
    },
    "nbformat": 4,
    "nbformat_minor": 2
}