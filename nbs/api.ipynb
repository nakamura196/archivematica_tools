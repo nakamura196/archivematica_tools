{
 "cells": [
  {
   "cell_type": "code",
   "execution_count": 39,
   "metadata": {},
   "outputs": [],
   "source": [
    "# | default_exp api\n"
   ]
  },
  {
   "attachments": {},
   "cell_type": "markdown",
   "metadata": {},
   "source": [
    "# Archivematica API client\n",
    "\n",
    "> Tools to interact with the Archivematica REST API\n"
   ]
  },
  {
   "cell_type": "code",
   "execution_count": 40,
   "metadata": {},
   "outputs": [],
   "source": [
    "# | hide\n",
    "from nbdev.showdoc import *\n"
   ]
  },
  {
   "cell_type": "code",
   "execution_count": 41,
   "metadata": {},
   "outputs": [],
   "source": [
    "# | export\n",
    "import base64\n",
    "import requests\n",
    "import time\n",
    "from requests.auth import HTTPBasicAuth\n",
    "from typing import Optional, Dict\n",
    "from tqdm import tqdm\n",
    "from dotenv import load_dotenv\n",
    "import os"
   ]
  },
  {
   "cell_type": "code",
   "execution_count": 42,
   "metadata": {},
   "outputs": [],
   "source": [
    "# | export\n",
    "class ArchivematicaAPIClient(object):\n",
    "    \"\"\"\n",
    "    A client for interacting with Matica's API for file uploading, transferring, and ingesting processes.\n",
    "    \"\"\"\n",
    "\n",
    "    TIME_SPAN = 2  # Time to wait in loops, in seconds\n",
    "\n",
    "    def __init__(self, dashboard_url: str, dashboard_username: str, dashboard_api_key: str, storage_service_url: str, storage_service_username: str, storage_service_password: str):\n",
    "        \"\"\"\n",
    "        Initializes the ArchivematicaAPIClient with necessary details for API interactions.\n",
    "\n",
    "        Args:\n",
    "            dashboard_url (str): URL of the dashboard.\n",
    "            dashboard_username (str): Username for the dashboard.\n",
    "            dashboard_api_key (str): API key for the dashboard.\n",
    "            storage_service_url (str): URL of the storage service.\n",
    "            storage_service_username (str): Username for the storage service.\n",
    "            storage_service_password (str): Password for the storage service.\n",
    "        \"\"\"\n",
    "\n",
    "        self.dashbord_url = dashboard_url\n",
    "        self.dashboard_username = dashboard_username\n",
    "        self.dashboard_api_key = dashboard_api_key\n",
    "\n",
    "        self.dash_board_headers = {\n",
    "            'Authorization': f'ApiKey {dashboard_username}:{dashboard_api_key}',\n",
    "            \"Content-Type\": \"application/json\"\n",
    "        }\n",
    "\n",
    "        self.dash_board_endpoint = f\"{dashboard_url}/api\"\n",
    "\n",
    "        self.storage_service_url = storage_service_url\n",
    "        self.storage_username = storage_service_username\n",
    "        self.storage_password = storage_service_password\n",
    "    \n",
    "    def v2beta_package(self, transfer_type: str, transfer_accession: str, location_uuid: str, path: str, name: str, processing_config: str) -> str:\n",
    "        \"\"\"\n",
    "        Initiates a file transfer process.\n",
    "\n",
    "        Args:\n",
    "            transfer_type: The type of the transfer.\n",
    "            transfer_accession: The accession number for the transfer.\n",
    "\n",
    "        Returns:\n",
    "            The directory associated with the transfer.\n",
    "        \"\"\"\n",
    "\n",
    "        path = f\"{location_uuid}:{path}\"\n",
    "\n",
    "        path_encoded = base64.b64encode(path.encode()).decode()\n",
    "        data = {\n",
    "            \"name\": name,\n",
    "            \"type\": transfer_type,\n",
    "            \"accession\": transfer_accession,\n",
    "            \"processing_config\": processing_config,\n",
    "            \"path\": path_encoded,\n",
    "        }\n",
    "\n",
    "        response = requests.post(f'{self.dashbord_url}/api/v2beta/package/', headers=self.dash_board_headers, json=data)\n",
    "\n",
    "        self.transfer_UUID = response.json()[\"id\"]\n",
    "        return self.transfer_UUID\n",
    "    \n",
    "    def approve_transfer(self, transfer_type: str, directory: str) -> str:\n",
    "        \"\"\"\n",
    "        Approves a file transfer after initiation.\n",
    "\n",
    "        Args:\n",
    "            transfer_type (str): The type of the transfer.\n",
    "            directory (str): The directory associated with the transfer.\n",
    "\n",
    "        Returns:\n",
    "            Optional[str]: The UUID of the approved transfer, if available.\n",
    "        \"\"\"\n",
    "        while True:\n",
    "            data = {\"type\": transfer_type, \"directory\": directory}\n",
    "            response = requests.post(f'{self.dashbord_url}/api/transfer/approve/', headers=self.dash_board_headers, data=data)\n",
    "            if \"uuid\" in response.json():\n",
    "                self.transfer_UUID = response.json()[\"uuid\"]\n",
    "                break\n",
    "            time.sleep(self.TIME_SPAN)\n",
    "        return self.transfer_UUID\n",
    "\n",
    "    def check_transfer_status(self, transfer_UUID: str) -> str:\n",
    "        \"\"\"\n",
    "        Checks the status of a file transfer until it is no longer processing.\n",
    "\n",
    "        Args:\n",
    "            transfer_UUID: The UUID of the transfer to check.\n",
    "\n",
    "        Returns:\n",
    "            The SIP UUID of the transfer.\n",
    "        \"\"\"\n",
    "        while True:\n",
    "            response = requests.get(f'{self.dashbord_url}/api/transfer/status/{transfer_UUID}', headers=self.dash_board_headers)\n",
    "            r = response.json()\n",
    "            if \"status\" in r and r[\"status\"] != \"PROCESSING\":\n",
    "                self.sip_uuid = r[\"sip_uuid\"]\n",
    "                break\n",
    "            time.sleep(self.TIME_SPAN)\n",
    "        return self.sip_uuid\n",
    "    \n",
    "    def transfer_delete(self, transfer_UUIDs: list) -> list:\n",
    "        \"\"\"\n",
    "        Deletes the specified transfers.\n",
    "        \n",
    "        Args:\n",
    "            transfer_UUIDs: The list of transfer UUIDs to delete.\n",
    "\n",
    "        Returns:\n",
    "            The results of the deletion.\n",
    "        \"\"\"\n",
    "        results = []\n",
    "        for transfer_UUID in transfer_UUIDs:\n",
    "            response = requests.delete(f'{self.dashbord_url}/api/transfer/{transfer_UUID}/delete', headers=self.dash_board_headers)\n",
    "            results.append(response.json())\n",
    "\n",
    "        return results\n",
    "    \n",
    "    def transfer_completed(self) -> Dict:\n",
    "        \"\"\"\n",
    "        Checks for completed transfers.\n",
    "\n",
    "        Returns:\n",
    "            The list of completed transfers.\n",
    "        \"\"\"\n",
    "\n",
    "        response = requests.get(f'{self.dashbord_url}/api/transfer/completed', headers=self.dash_board_headers)\n",
    "\n",
    "        return response.json()\n",
    "\n",
    "    ###########\n",
    "\n",
    "    def ingest(self, sip_UUID: str) -> str:\n",
    "        \"\"\"\n",
    "        Waits for the ingestion process to complete and returns the UUID of the ingested AIP.\n",
    "\n",
    "        Args:\n",
    "            sip_UUID: The SIP UUID to ingest.\n",
    "\n",
    "        Returns:\n",
    "            The UUID of the ingested AIP.\n",
    "        \"\"\"\n",
    "        while True:\n",
    "            response = requests.get(f'{self.dash_board_endpoint}/ingest/status/{sip_UUID}', headers=self.dash_board_headers)\n",
    "            r = response.json()\n",
    "            if \"status\" in r and r[\"status\"] != \"PROCESSING\":\n",
    "                return r[\"uuid\"]\n",
    "            time.sleep(self.TIME_SPAN)\n",
    "\n",
    "    def ingest_delete(self, ingest_UUIDs: list) -> list:\n",
    "        \"\"\"\n",
    "        Deletes the specified ingestions.\n",
    "\n",
    "        Args:\n",
    "            ingest_UUIDs: The list of ingest UUIDs to delete.\n",
    "\n",
    "        Returns:\n",
    "            The results of the deletion.\n",
    "        \"\"\"\n",
    "        results = []\n",
    "        for ingest_UUID in ingest_UUIDs:\n",
    "            response = requests.delete(f'{self.dash_board_endpoint}/ingest/{ingest_UUID}/delete', headers=self.dash_board_headers)\n",
    "            results.append(response.json())\n",
    "\n",
    "        return results\n",
    "\n",
    "    def ingest_completed(self) -> Dict:\n",
    "        \"\"\"\n",
    "        Checks for completed ingestions.\n",
    "\n",
    "        Returns:\n",
    "            The list of completed ingestions.\n",
    "        \"\"\"\n",
    "\n",
    "        response = requests.get(f'{self.dash_board_endpoint}/ingest/completed', headers=self.dash_board_headers)\n",
    "\n",
    "        return response.json()\n",
    "    \n",
    "    #####\n",
    "\n",
    "    def v2_file(self, size:int = 20) -> list:\n",
    "        \"\"\"\n",
    "        Retrieves a list of files.\n",
    "\n",
    "        Args:\n",
    "            size: The number of files to retrieve.\n",
    "\n",
    "        Returns:\n",
    "            The list of files.\n",
    "        \"\"\"\n",
    "        response = requests.get(f'{self.storage_service_url}/api/v2/file/', auth=HTTPBasicAuth(self.storage_username, self.storage_password), params={\"limit\": size})\n",
    "        return response.json()\n",
    "\n",
    "    def v2_file_delete_aip(self, file_UUIDs: list, event_reason: str, pipeline: str, user_id: str, user_email: str) -> list:\n",
    "        \"\"\"\n",
    "        Deletes the specified files.\n",
    "\n",
    "        Args:\n",
    "            file_UUIDs: The list of file UUIDs to delete.\n",
    "            event_reason: The reason for the deletion.\n",
    "            pipeline: The pipeline for the deletion.\n",
    "            user_id: The user ID for the deletion.\n",
    "            user_email: The user email for the deletion.\n",
    "\n",
    "        Returns:\n",
    "            The results of the deletion.\n",
    "        \"\"\"\n",
    "        results = []\n",
    "        for file_UUID in tqdm(file_UUIDs):\n",
    "            response = requests.post(f'{self.storage_service_url}/api/v2/file/{file_UUID}/delete_aip/', auth=HTTPBasicAuth(self.storage_username, self.storage_password), json={\n",
    "                \"event_reason\": event_reason,\n",
    "                \"pipeline\": pipeline,\n",
    "                \"user_id\"   : user_id,\n",
    "                \"user_email\": user_email,\n",
    "\n",
    "            })\n",
    "            results.append(response.json())\n",
    "\n",
    "        return results\n",
    "\n",
    "    def v2_file_delete(self, file_UUIDs: list) -> list:\n",
    "        \"\"\"\n",
    "        Deletes the specified files.\n",
    "\n",
    "        Args:\n",
    "            file_UUIDs: The list of file UUIDs to delete.\n",
    "\n",
    "        Returns:\n",
    "            The results of the deletion.\n",
    "        \"\"\"\n",
    "        results = []\n",
    "        for file_UUID in tqdm(file_UUIDs):\n",
    "            response = requests.delete(f'{self.storage_service_url}/api/v2/file/{file_UUID}/contents', auth=HTTPBasicAuth(self.storage_username, self.storage_password))\n",
    "            res = {\n",
    "                \"file_UUID\": file_UUID,\n",
    "            }\n",
    "            if(response.status_code == 204):\n",
    "                # results.append({\"status\": \"success\"})\n",
    "                res[\"status\"] = \"success\"\n",
    "            else:\n",
    "                # results.append({\"status\": \"failed\"})\n",
    "                res[\"status\"] = \"failed\"\n",
    "\n",
    "            results.append(res)\n",
    "\n",
    "        return results\n",
    "\n",
    "\n",
    "    def get_aip_url(self, ingest_UUID: str) -> str:\n",
    "        \"\"\"\n",
    "        Constructs and returns the URL for downloading the ingested AIP.\n",
    "\n",
    "        Args:\n",
    "            ingest_UUID: The UUID of the ingested AIP.\n",
    "\n",
    "        Returns:\n",
    "            The URL for downloading the AIP.\n",
    "        \"\"\"\n",
    "        endpoint = self.storage_service_url + \"/api\"\n",
    "        url = f\"{endpoint}/v2/file/{ingest_UUID}/download/\"\n",
    "        return url\n",
    "    \n",
    "    def get_current_full_path(self, ingest_UUID: str) -> Optional[str]:\n",
    "        \"\"\"\n",
    "        Retrieves the current full path of the ingested AIP by making an API call.\n",
    "\n",
    "        Args:\n",
    "            ingest_UUID (str): The UUID of the ingested AIP.\n",
    "\n",
    "        Returns:\n",
    "            Optional[str]: The current full path of the AIP if the request is successful, None otherwise.\n",
    "        \"\"\"\n",
    "        endpoint = self.storage_service_url + \"/api\"\n",
    "        url = f\"{endpoint}/v2/file/{ingest_UUID}/\"\n",
    "\n",
    "        try:\n",
    "            response = requests.get(url, auth=HTTPBasicAuth(self.storage_username, self.storage_password))\n",
    "            response.raise_for_status()  # Raises an exception for 4XX or 5XX errors\n",
    "            return response.json().get(\"current_full_path\")\n",
    "        except requests.RequestException as e:\n",
    "            print(f\"Error retrieving current full path: {e}\")\n",
    "            return None\n",
    "        \n",
    "    def check_status(self, transfer_UUID):\n",
    "        \"\"\"\n",
    "        Checks the status of a file transfer until it is no longer processing.\n",
    "\n",
    "        Args:\n",
    "            transfer_UUID: The UUID of the transfer to check.\n",
    "\n",
    "        Returns:\n",
    "            The UUID of the ingested AIP.\n",
    "        \"\"\"\n",
    "        print(\"transfer ...\")\n",
    "        sip_uuid = self.check_transfer_status(transfer_UUID)\n",
    "\n",
    "        print(\"ingest ...\")\n",
    "        self.ingest(sip_uuid)\n",
    "\n",
    "        return sip_uuid\n",
    "        \n",
    "    @staticmethod\n",
    "    def main(transfer_type, transfer_accession, location_uuid, path, name, processing_config, env_path=None):\n",
    "        \"\"\"\n",
    "        Main function to orchestrate the file transfer, ingestion, and deletion processes.\n",
    "\n",
    "        Args:\n",
    "            transfer_type: The type of the transfer.\n",
    "            transfer_accession: The accession number for the transfer.\n",
    "            location_uuid: The UUID of the location.\n",
    "            path: The path to the file to transfer.\n",
    "            name: The name of the file to transfer.\n",
    "            processing_config: The processing configuration to use.\n",
    "            env_path: The path to the environment variables file.\n",
    "\n",
    "        Returns:\n",
    "            The UUID of the ingested AIP.\n",
    "        \"\"\"\n",
    "        if env_path:\n",
    "            load_dotenv(override=True, dotenv_path=env_path)\n",
    "        else:\n",
    "            load_dotenv(override=True)\n",
    "\n",
    "        dashboard_url = os.environ.get(\"DASHBOARD_URL\")\n",
    "        dashboard_username = os.environ.get(\"DASHBOARD_USERNAME\")\n",
    "        dashboard_api_key = os.environ.get(\"DASHBOARD_API_KEY\")\n",
    "\n",
    "        storage_service_url = os.environ.get(\"STORAGE_SERVICE_URL\")\n",
    "        storage_service_username = os.environ.get(\"STORAGE_SERVICE_USERNAME\")\n",
    "        storage_service_password = os.environ.get(\"STORAGE_SERVICE_PASSWORD\")\n",
    "\n",
    "        client = ArchivematicaAPIClient(dashboard_url, dashboard_username, dashboard_api_key, storage_service_url, storage_service_username, storage_service_password)\n",
    "\n",
    "        transfer_UUID = client.v2beta_package(transfer_type, transfer_accession, location_uuid, path, name, processing_config)\n",
    "        sip_uuid = client.check_status(transfer_UUID)\n",
    "\n",
    "        return sip_uuid\n"
   ]
  },
  {
   "cell_type": "code",
   "execution_count": 43,
   "metadata": {},
   "outputs": [
    {
     "data": {
      "text/markdown": [
       "---\n",
       "\n",
       "[source](https://github.com/nakamura196/archivematica_tools/blob/main/archivematica_tools/api.py#L15){target=\"_blank\" style=\"float:right; font-size:smaller\"}\n",
       "\n",
       "### ArchivematicaAPIClient\n",
       "\n",
       ">      ArchivematicaAPIClient (dashboard_url:str, dashboard_username:str,\n",
       ">                              dashboard_api_key:str, storage_service_url:str,\n",
       ">                              storage_service_username:str,\n",
       ">                              storage_service_password:str)\n",
       "\n",
       "A client for interacting with Matica's API for file uploading, transferring, and ingesting processes."
      ],
      "text/plain": [
       "---\n",
       "\n",
       "[source](https://github.com/nakamura196/archivematica_tools/blob/main/archivematica_tools/api.py#L15){target=\"_blank\" style=\"float:right; font-size:smaller\"}\n",
       "\n",
       "### ArchivematicaAPIClient\n",
       "\n",
       ">      ArchivematicaAPIClient (dashboard_url:str, dashboard_username:str,\n",
       ">                              dashboard_api_key:str, storage_service_url:str,\n",
       ">                              storage_service_username:str,\n",
       ">                              storage_service_password:str)\n",
       "\n",
       "A client for interacting with Matica's API for file uploading, transferring, and ingesting processes."
      ]
     },
     "execution_count": 43,
     "metadata": {},
     "output_type": "execute_result"
    }
   ],
   "source": [
    "show_doc(ArchivematicaAPIClient)"
   ]
  },
  {
   "cell_type": "markdown",
   "metadata": {},
   "source": [
    "First import the `ArchivematicaAPIClient` class.\n",
    "\n",
    "```python\n",
    "from archivematica_tools.api import ArchivematicaAPIClient\n",
    "```\n",
    "\n",
    "To initialise the `ArchivematicaAPIClient` you need to provide the options.\n",
    "\n",
    "`.env` file\n",
    "\n",
    "```txt\n",
    "DASHBOARD_URL=http://localhost:62080\n",
    "DASHBOARD_USERNAME=test\n",
    "DASHBOARD_API_KEY=test\n",
    "\n",
    "STORAGE_SERVICE_URL=http://localhost:62081\n",
    "STORAGE_SERVICE_USERNAME=test\n",
    "STORAGE_SERVICE_PASSWORD=test\n",
    "```"
   ]
  },
  {
   "cell_type": "markdown",
   "metadata": {},
   "source": [
    "```python\n",
    "# 環境変数を参照\n",
    "dashboard_url = os.environ.get(\"DASHBOARD_URL\")\n",
    "dashboard_username = os.environ.get(\"DASHBOARD_USERNAME\")\n",
    "dashboard_api_key = os.environ.get(\"DASHBOARD_API_KEY\")\n",
    "\n",
    "storage_service_url = os.environ.get(\"STORAGE_SERVICE_URL\")\n",
    "storage_service_username = os.environ.get(\"STORAGE_SERVICE_USERNAME\")\n",
    "storage_service_password = os.environ.get(\"STORAGE_SERVICE_PASSWORD\")\n",
    "\n",
    "aws_access_key_id = os.environ.get(\"AWS_ACCESS_KEY_ID\")\n",
    "aws_secret_access_key = os.environ.get(\"AWS_SECRET_ACCESS_KEY\")\n",
    "matica = ArchivematicaAPIClient(dashboard_url, dashboard_username, dashboard_api_key, storage_service_url, storage_service_username, storage_service_password)\n",
    "```"
   ]
  },
  {
   "cell_type": "markdown",
   "metadata": {},
   "source": [
    "# Transfer"
   ]
  },
  {
   "cell_type": "markdown",
   "metadata": {},
   "source": [
    "Initiates a file transfer process."
   ]
  },
  {
   "cell_type": "code",
   "execution_count": 44,
   "metadata": {},
   "outputs": [
    {
     "data": {
      "text/markdown": [
       "---\n",
       "\n",
       "[source](https://github.com/nakamura196/archivematica_tools/blob/main/archivematica_tools/api.py#L50){target=\"_blank\" style=\"float:right; font-size:smaller\"}\n",
       "\n",
       "### ArchivematicaAPIClient.v2beta_package\n",
       "\n",
       ">      ArchivematicaAPIClient.v2beta_package (transfer_type:str,\n",
       ">                                             transfer_accession:str,\n",
       ">                                             location_uuid:str, path:str,\n",
       ">                                             name:str, processing_config:str)\n",
       "\n",
       "Initiates a file transfer process.\n",
       "\n",
       "Args:\n",
       "    transfer_type: The type of the transfer.\n",
       "    transfer_accession: The accession number for the transfer.\n",
       "\n",
       "Returns:\n",
       "    The directory associated with the transfer."
      ],
      "text/plain": [
       "---\n",
       "\n",
       "[source](https://github.com/nakamura196/archivematica_tools/blob/main/archivematica_tools/api.py#L50){target=\"_blank\" style=\"float:right; font-size:smaller\"}\n",
       "\n",
       "### ArchivematicaAPIClient.v2beta_package\n",
       "\n",
       ">      ArchivematicaAPIClient.v2beta_package (transfer_type:str,\n",
       ">                                             transfer_accession:str,\n",
       ">                                             location_uuid:str, path:str,\n",
       ">                                             name:str, processing_config:str)\n",
       "\n",
       "Initiates a file transfer process.\n",
       "\n",
       "Args:\n",
       "    transfer_type: The type of the transfer.\n",
       "    transfer_accession: The accession number for the transfer.\n",
       "\n",
       "Returns:\n",
       "    The directory associated with the transfer."
      ]
     },
     "execution_count": 44,
     "metadata": {},
     "output_type": "execute_result"
    }
   ],
   "source": [
    "show_doc(ArchivematicaAPIClient.v2beta_package)"
   ]
  },
  {
   "cell_type": "code",
   "execution_count": 45,
   "metadata": {},
   "outputs": [
    {
     "data": {
      "text/markdown": [
       "---\n",
       "\n",
       "[source](https://github.com/nakamura196/archivematica_tools/blob/main/archivematica_tools/api.py#L78){target=\"_blank\" style=\"float:right; font-size:smaller\"}\n",
       "\n",
       "### ArchivematicaAPIClient.approve_transfer\n",
       "\n",
       ">      ArchivematicaAPIClient.approve_transfer (transfer_type:str,\n",
       ">                                               directory:str)\n",
       "\n",
       "Approves a file transfer after initiation.\n",
       "\n",
       "Args:\n",
       "    transfer_type (str): The type of the transfer.\n",
       "    directory (str): The directory associated with the transfer.\n",
       "\n",
       "Returns:\n",
       "    Optional[str]: The UUID of the approved transfer, if available."
      ],
      "text/plain": [
       "---\n",
       "\n",
       "[source](https://github.com/nakamura196/archivematica_tools/blob/main/archivematica_tools/api.py#L78){target=\"_blank\" style=\"float:right; font-size:smaller\"}\n",
       "\n",
       "### ArchivematicaAPIClient.approve_transfer\n",
       "\n",
       ">      ArchivematicaAPIClient.approve_transfer (transfer_type:str,\n",
       ">                                               directory:str)\n",
       "\n",
       "Approves a file transfer after initiation.\n",
       "\n",
       "Args:\n",
       "    transfer_type (str): The type of the transfer.\n",
       "    directory (str): The directory associated with the transfer.\n",
       "\n",
       "Returns:\n",
       "    Optional[str]: The UUID of the approved transfer, if available."
      ]
     },
     "execution_count": 45,
     "metadata": {},
     "output_type": "execute_result"
    }
   ],
   "source": [
    "show_doc(ArchivematicaAPIClient.approve_transfer)"
   ]
  },
  {
   "cell_type": "code",
   "execution_count": 46,
   "metadata": {},
   "outputs": [
    {
     "data": {
      "text/markdown": [
       "---\n",
       "\n",
       "[source](https://github.com/nakamura196/archivematica_tools/blob/main/archivematica_tools/api.py#L98){target=\"_blank\" style=\"float:right; font-size:smaller\"}\n",
       "\n",
       "### ArchivematicaAPIClient.check_transfer_status\n",
       "\n",
       ">      ArchivematicaAPIClient.check_transfer_status (transfer_UUID:str)\n",
       "\n",
       "Checks the status of a file transfer until it is no longer processing.\n",
       "\n",
       "Args:\n",
       "    transfer_UUID: The UUID of the transfer to check.\n",
       "\n",
       "Returns:\n",
       "    The SIP UUID of the transfer."
      ],
      "text/plain": [
       "---\n",
       "\n",
       "[source](https://github.com/nakamura196/archivematica_tools/blob/main/archivematica_tools/api.py#L98){target=\"_blank\" style=\"float:right; font-size:smaller\"}\n",
       "\n",
       "### ArchivematicaAPIClient.check_transfer_status\n",
       "\n",
       ">      ArchivematicaAPIClient.check_transfer_status (transfer_UUID:str)\n",
       "\n",
       "Checks the status of a file transfer until it is no longer processing.\n",
       "\n",
       "Args:\n",
       "    transfer_UUID: The UUID of the transfer to check.\n",
       "\n",
       "Returns:\n",
       "    The SIP UUID of the transfer."
      ]
     },
     "execution_count": 46,
     "metadata": {},
     "output_type": "execute_result"
    }
   ],
   "source": [
    "show_doc(ArchivematicaAPIClient.check_transfer_status)"
   ]
  },
  {
   "cell_type": "code",
   "execution_count": 47,
   "metadata": {},
   "outputs": [
    {
     "data": {
      "text/markdown": [
       "---\n",
       "\n",
       "[source](https://github.com/nakamura196/archivematica_tools/blob/main/archivematica_tools/api.py#L117){target=\"_blank\" style=\"float:right; font-size:smaller\"}\n",
       "\n",
       "### ArchivematicaAPIClient.transfer_delete\n",
       "\n",
       ">      ArchivematicaAPIClient.transfer_delete (transfer_UUIDs:list)\n",
       "\n",
       "Deletes the specified transfers.\n",
       "\n",
       "Args:\n",
       "    transfer_UUIDs: The list of transfer UUIDs to delete.\n",
       "\n",
       "Returns:\n",
       "    The results of the deletion."
      ],
      "text/plain": [
       "---\n",
       "\n",
       "[source](https://github.com/nakamura196/archivematica_tools/blob/main/archivematica_tools/api.py#L117){target=\"_blank\" style=\"float:right; font-size:smaller\"}\n",
       "\n",
       "### ArchivematicaAPIClient.transfer_delete\n",
       "\n",
       ">      ArchivematicaAPIClient.transfer_delete (transfer_UUIDs:list)\n",
       "\n",
       "Deletes the specified transfers.\n",
       "\n",
       "Args:\n",
       "    transfer_UUIDs: The list of transfer UUIDs to delete.\n",
       "\n",
       "Returns:\n",
       "    The results of the deletion."
      ]
     },
     "execution_count": 47,
     "metadata": {},
     "output_type": "execute_result"
    }
   ],
   "source": [
    "show_doc(ArchivematicaAPIClient.transfer_delete)"
   ]
  },
  {
   "cell_type": "code",
   "execution_count": 48,
   "metadata": {},
   "outputs": [
    {
     "data": {
      "text/markdown": [
       "---\n",
       "\n",
       "[source](https://github.com/nakamura196/archivematica_tools/blob/main/archivematica_tools/api.py#L134){target=\"_blank\" style=\"float:right; font-size:smaller\"}\n",
       "\n",
       "### ArchivematicaAPIClient.transfer_completed\n",
       "\n",
       ">      ArchivematicaAPIClient.transfer_completed ()\n",
       "\n",
       "Checks for completed transfers.\n",
       "\n",
       "Returns:\n",
       "    The list of completed transfers."
      ],
      "text/plain": [
       "---\n",
       "\n",
       "[source](https://github.com/nakamura196/archivematica_tools/blob/main/archivematica_tools/api.py#L134){target=\"_blank\" style=\"float:right; font-size:smaller\"}\n",
       "\n",
       "### ArchivematicaAPIClient.transfer_completed\n",
       "\n",
       ">      ArchivematicaAPIClient.transfer_completed ()\n",
       "\n",
       "Checks for completed transfers.\n",
       "\n",
       "Returns:\n",
       "    The list of completed transfers."
      ]
     },
     "execution_count": 48,
     "metadata": {},
     "output_type": "execute_result"
    }
   ],
   "source": [
    "show_doc(ArchivematicaAPIClient.transfer_completed)"
   ]
  },
  {
   "cell_type": "markdown",
   "metadata": {},
   "source": [
    "# Ingest"
   ]
  },
  {
   "cell_type": "code",
   "execution_count": 49,
   "metadata": {},
   "outputs": [
    {
     "data": {
      "text/markdown": [
       "---\n",
       "\n",
       "[source](https://github.com/nakamura196/archivematica_tools/blob/main/archivematica_tools/api.py#L148){target=\"_blank\" style=\"float:right; font-size:smaller\"}\n",
       "\n",
       "### ArchivematicaAPIClient.ingest\n",
       "\n",
       ">      ArchivematicaAPIClient.ingest (sip_UUID:str)\n",
       "\n",
       "Waits for the ingestion process to complete and returns the UUID of the ingested AIP.\n",
       "\n",
       "Args:\n",
       "    sip_UUID: The SIP UUID to ingest.\n",
       "\n",
       "Returns:\n",
       "    The UUID of the ingested AIP."
      ],
      "text/plain": [
       "---\n",
       "\n",
       "[source](https://github.com/nakamura196/archivematica_tools/blob/main/archivematica_tools/api.py#L148){target=\"_blank\" style=\"float:right; font-size:smaller\"}\n",
       "\n",
       "### ArchivematicaAPIClient.ingest\n",
       "\n",
       ">      ArchivematicaAPIClient.ingest (sip_UUID:str)\n",
       "\n",
       "Waits for the ingestion process to complete and returns the UUID of the ingested AIP.\n",
       "\n",
       "Args:\n",
       "    sip_UUID: The SIP UUID to ingest.\n",
       "\n",
       "Returns:\n",
       "    The UUID of the ingested AIP."
      ]
     },
     "execution_count": 49,
     "metadata": {},
     "output_type": "execute_result"
    }
   ],
   "source": [
    "show_doc(ArchivematicaAPIClient.ingest)"
   ]
  },
  {
   "cell_type": "code",
   "execution_count": 50,
   "metadata": {},
   "outputs": [
    {
     "data": {
      "text/markdown": [
       "---\n",
       "\n",
       "[source](https://github.com/nakamura196/archivematica_tools/blob/main/archivematica_tools/api.py#L165){target=\"_blank\" style=\"float:right; font-size:smaller\"}\n",
       "\n",
       "### ArchivematicaAPIClient.ingest_delete\n",
       "\n",
       ">      ArchivematicaAPIClient.ingest_delete (ingest_UUIDs:list)\n",
       "\n",
       "Deletes the specified ingestions.\n",
       "\n",
       "Args:\n",
       "    ingest_UUIDs: The list of ingest UUIDs to delete.\n",
       "\n",
       "Returns:\n",
       "    The results of the deletion."
      ],
      "text/plain": [
       "---\n",
       "\n",
       "[source](https://github.com/nakamura196/archivematica_tools/blob/main/archivematica_tools/api.py#L165){target=\"_blank\" style=\"float:right; font-size:smaller\"}\n",
       "\n",
       "### ArchivematicaAPIClient.ingest_delete\n",
       "\n",
       ">      ArchivematicaAPIClient.ingest_delete (ingest_UUIDs:list)\n",
       "\n",
       "Deletes the specified ingestions.\n",
       "\n",
       "Args:\n",
       "    ingest_UUIDs: The list of ingest UUIDs to delete.\n",
       "\n",
       "Returns:\n",
       "    The results of the deletion."
      ]
     },
     "execution_count": 50,
     "metadata": {},
     "output_type": "execute_result"
    }
   ],
   "source": [
    "show_doc(ArchivematicaAPIClient.ingest_delete)"
   ]
  },
  {
   "cell_type": "code",
   "execution_count": 51,
   "metadata": {},
   "outputs": [
    {
     "data": {
      "text/markdown": [
       "---\n",
       "\n",
       "[source](https://github.com/nakamura196/archivematica_tools/blob/main/archivematica_tools/api.py#L182){target=\"_blank\" style=\"float:right; font-size:smaller\"}\n",
       "\n",
       "### ArchivematicaAPIClient.ingest_completed\n",
       "\n",
       ">      ArchivematicaAPIClient.ingest_completed ()\n",
       "\n",
       "Checks for completed ingestions.\n",
       "\n",
       "Returns:\n",
       "    The list of completed ingestions."
      ],
      "text/plain": [
       "---\n",
       "\n",
       "[source](https://github.com/nakamura196/archivematica_tools/blob/main/archivematica_tools/api.py#L182){target=\"_blank\" style=\"float:right; font-size:smaller\"}\n",
       "\n",
       "### ArchivematicaAPIClient.ingest_completed\n",
       "\n",
       ">      ArchivematicaAPIClient.ingest_completed ()\n",
       "\n",
       "Checks for completed ingestions.\n",
       "\n",
       "Returns:\n",
       "    The list of completed ingestions."
      ]
     },
     "execution_count": 51,
     "metadata": {},
     "output_type": "execute_result"
    }
   ],
   "source": [
    "show_doc(ArchivematicaAPIClient.ingest_completed)"
   ]
  },
  {
   "cell_type": "markdown",
   "metadata": {},
   "source": [
    "# Storage Service"
   ]
  },
  {
   "cell_type": "code",
   "execution_count": 52,
   "metadata": {},
   "outputs": [
    {
     "data": {
      "text/markdown": [
       "---\n",
       "\n",
       "[source](https://github.com/nakamura196/archivematica_tools/blob/main/archivematica_tools/api.py#L196){target=\"_blank\" style=\"float:right; font-size:smaller\"}\n",
       "\n",
       "### ArchivematicaAPIClient.v2_file\n",
       "\n",
       ">      ArchivematicaAPIClient.v2_file (size:int=20)\n",
       "\n",
       "Retrieves a list of files.\n",
       "\n",
       "Args:\n",
       "    size: The number of files to retrieve.\n",
       "\n",
       "Returns:\n",
       "    The list of files."
      ],
      "text/plain": [
       "---\n",
       "\n",
       "[source](https://github.com/nakamura196/archivematica_tools/blob/main/archivematica_tools/api.py#L196){target=\"_blank\" style=\"float:right; font-size:smaller\"}\n",
       "\n",
       "### ArchivematicaAPIClient.v2_file\n",
       "\n",
       ">      ArchivematicaAPIClient.v2_file (size:int=20)\n",
       "\n",
       "Retrieves a list of files.\n",
       "\n",
       "Args:\n",
       "    size: The number of files to retrieve.\n",
       "\n",
       "Returns:\n",
       "    The list of files."
      ]
     },
     "execution_count": 52,
     "metadata": {},
     "output_type": "execute_result"
    }
   ],
   "source": [
    "show_doc(ArchivematicaAPIClient.v2_file)"
   ]
  },
  {
   "cell_type": "code",
   "execution_count": 53,
   "metadata": {},
   "outputs": [
    {
     "data": {
      "text/markdown": [
       "---\n",
       "\n",
       "[source](https://github.com/nakamura196/archivematica_tools/blob/main/archivematica_tools/api.py#L209){target=\"_blank\" style=\"float:right; font-size:smaller\"}\n",
       "\n",
       "### ArchivematicaAPIClient.v2_file_delete_aip\n",
       "\n",
       ">      ArchivematicaAPIClient.v2_file_delete_aip (file_UUIDs:list,\n",
       ">                                                 event_reason:str,\n",
       ">                                                 pipeline:str, user_id:str,\n",
       ">                                                 user_email:str)\n",
       "\n",
       "Deletes the specified files.\n",
       "\n",
       "Args:\n",
       "    file_UUIDs: The list of file UUIDs to delete.\n",
       "    event_reason: The reason for the deletion.\n",
       "    pipeline: The pipeline for the deletion.\n",
       "    user_id: The user ID for the deletion.\n",
       "    user_email: The user email for the deletion.\n",
       "\n",
       "Returns:\n",
       "    The results of the deletion."
      ],
      "text/plain": [
       "---\n",
       "\n",
       "[source](https://github.com/nakamura196/archivematica_tools/blob/main/archivematica_tools/api.py#L209){target=\"_blank\" style=\"float:right; font-size:smaller\"}\n",
       "\n",
       "### ArchivematicaAPIClient.v2_file_delete_aip\n",
       "\n",
       ">      ArchivematicaAPIClient.v2_file_delete_aip (file_UUIDs:list,\n",
       ">                                                 event_reason:str,\n",
       ">                                                 pipeline:str, user_id:str,\n",
       ">                                                 user_email:str)\n",
       "\n",
       "Deletes the specified files.\n",
       "\n",
       "Args:\n",
       "    file_UUIDs: The list of file UUIDs to delete.\n",
       "    event_reason: The reason for the deletion.\n",
       "    pipeline: The pipeline for the deletion.\n",
       "    user_id: The user ID for the deletion.\n",
       "    user_email: The user email for the deletion.\n",
       "\n",
       "Returns:\n",
       "    The results of the deletion."
      ]
     },
     "execution_count": 53,
     "metadata": {},
     "output_type": "execute_result"
    }
   ],
   "source": [
    "show_doc(ArchivematicaAPIClient.v2_file_delete_aip)"
   ]
  },
  {
   "cell_type": "code",
   "execution_count": 54,
   "metadata": {},
   "outputs": [
    {
     "data": {
      "text/markdown": [
       "---\n",
       "\n",
       "[source](https://github.com/nakamura196/archivematica_tools/blob/main/archivematica_tools/api.py#L236){target=\"_blank\" style=\"float:right; font-size:smaller\"}\n",
       "\n",
       "### ArchivematicaAPIClient.v2_file_delete\n",
       "\n",
       ">      ArchivematicaAPIClient.v2_file_delete (file_UUIDs:list)\n",
       "\n",
       "Deletes the specified files.\n",
       "\n",
       "Args:\n",
       "    file_UUIDs: The list of file UUIDs to delete.\n",
       "\n",
       "Returns:\n",
       "    The results of the deletion."
      ],
      "text/plain": [
       "---\n",
       "\n",
       "[source](https://github.com/nakamura196/archivematica_tools/blob/main/archivematica_tools/api.py#L236){target=\"_blank\" style=\"float:right; font-size:smaller\"}\n",
       "\n",
       "### ArchivematicaAPIClient.v2_file_delete\n",
       "\n",
       ">      ArchivematicaAPIClient.v2_file_delete (file_UUIDs:list)\n",
       "\n",
       "Deletes the specified files.\n",
       "\n",
       "Args:\n",
       "    file_UUIDs: The list of file UUIDs to delete.\n",
       "\n",
       "Returns:\n",
       "    The results of the deletion."
      ]
     },
     "execution_count": 54,
     "metadata": {},
     "output_type": "execute_result"
    }
   ],
   "source": [
    "show_doc(ArchivematicaAPIClient.v2_file_delete)"
   ]
  },
  {
   "cell_type": "code",
   "execution_count": 55,
   "metadata": {},
   "outputs": [
    {
     "data": {
      "text/markdown": [
       "---\n",
       "\n",
       "[source](https://github.com/nakamura196/archivematica_tools/blob/main/archivematica_tools/api.py#L264){target=\"_blank\" style=\"float:right; font-size:smaller\"}\n",
       "\n",
       "### ArchivematicaAPIClient.get_aip_url\n",
       "\n",
       ">      ArchivematicaAPIClient.get_aip_url (ingest_UUID:str)\n",
       "\n",
       "Constructs and returns the URL for downloading the ingested AIP.\n",
       "\n",
       "Args:\n",
       "    ingest_UUID: The UUID of the ingested AIP.\n",
       "\n",
       "Returns:\n",
       "    The URL for downloading the AIP."
      ],
      "text/plain": [
       "---\n",
       "\n",
       "[source](https://github.com/nakamura196/archivematica_tools/blob/main/archivematica_tools/api.py#L264){target=\"_blank\" style=\"float:right; font-size:smaller\"}\n",
       "\n",
       "### ArchivematicaAPIClient.get_aip_url\n",
       "\n",
       ">      ArchivematicaAPIClient.get_aip_url (ingest_UUID:str)\n",
       "\n",
       "Constructs and returns the URL for downloading the ingested AIP.\n",
       "\n",
       "Args:\n",
       "    ingest_UUID: The UUID of the ingested AIP.\n",
       "\n",
       "Returns:\n",
       "    The URL for downloading the AIP."
      ]
     },
     "execution_count": 55,
     "metadata": {},
     "output_type": "execute_result"
    }
   ],
   "source": [
    "show_doc(ArchivematicaAPIClient.get_aip_url)"
   ]
  },
  {
   "cell_type": "code",
   "execution_count": 56,
   "metadata": {},
   "outputs": [
    {
     "data": {
      "text/markdown": [
       "---\n",
       "\n",
       "[source](https://github.com/nakamura196/archivematica_tools/blob/main/archivematica_tools/api.py#L278){target=\"_blank\" style=\"float:right; font-size:smaller\"}\n",
       "\n",
       "### ArchivematicaAPIClient.get_current_full_path\n",
       "\n",
       ">      ArchivematicaAPIClient.get_current_full_path (ingest_UUID:str)\n",
       "\n",
       "Retrieves the current full path of the ingested AIP by making an API call.\n",
       "\n",
       "Args:\n",
       "    ingest_UUID (str): The UUID of the ingested AIP.\n",
       "\n",
       "Returns:\n",
       "    Optional[str]: The current full path of the AIP if the request is successful, None otherwise."
      ],
      "text/plain": [
       "---\n",
       "\n",
       "[source](https://github.com/nakamura196/archivematica_tools/blob/main/archivematica_tools/api.py#L278){target=\"_blank\" style=\"float:right; font-size:smaller\"}\n",
       "\n",
       "### ArchivematicaAPIClient.get_current_full_path\n",
       "\n",
       ">      ArchivematicaAPIClient.get_current_full_path (ingest_UUID:str)\n",
       "\n",
       "Retrieves the current full path of the ingested AIP by making an API call.\n",
       "\n",
       "Args:\n",
       "    ingest_UUID (str): The UUID of the ingested AIP.\n",
       "\n",
       "Returns:\n",
       "    Optional[str]: The current full path of the AIP if the request is successful, None otherwise."
      ]
     },
     "execution_count": 56,
     "metadata": {},
     "output_type": "execute_result"
    }
   ],
   "source": [
    "show_doc(ArchivematicaAPIClient.get_current_full_path)"
   ]
  },
  {
   "cell_type": "code",
   "execution_count": 57,
   "metadata": {},
   "outputs": [],
   "source": [
    "#| hide\n",
    "import nbdev; nbdev.nbdev_export()"
   ]
  }
 ],
 "metadata": {
  "kernelspec": {
   "display_name": ".venv",
   "language": "python",
   "name": "python3"
  },
  "language_info": {
   "codemirror_mode": {
    "name": "ipython",
    "version": 3
   },
   "file_extension": ".py",
   "mimetype": "text/x-python",
   "name": "python",
   "nbconvert_exporter": "python",
   "pygments_lexer": "ipython3",
   "version": "3.9.11"
  }
 },
 "nbformat": 4,
 "nbformat_minor": 4
}
