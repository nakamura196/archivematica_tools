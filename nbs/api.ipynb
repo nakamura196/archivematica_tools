{
    "cells": [
        {
            "cell_type": "code",
            "execution_count": null,
            "metadata": {},
            "outputs": [],
            "source": [
                "# | default_exp api\n"
            ]
        },
        {
            "attachments": {},
            "cell_type": "markdown",
            "metadata": {},
            "source": [
                "# Archivematica API client\n",
                "\n",
                "> Tools to interact with the Archivematica REST API\n"
            ]
        },
        {
            "cell_type": "code",
            "execution_count": null,
            "metadata": {},
            "outputs": [],
            "source": [
                "# | hide\n",
                "from nbdev.showdoc import *\n"
            ]
        },
        {
            "cell_type": "code",
            "execution_count": null,
            "metadata": {},
            "outputs": [],
            "source": [
                "# | export\n",
                "import base64\n",
                "import requests\n",
                "import time\n",
                "from requests.auth import HTTPBasicAuth\n",
                "from typing import Optional"
            ]
        },
        {
            "cell_type": "code",
            "execution_count": null,
            "metadata": {},
            "outputs": [],
            "source": [
                "# | export\n",
                "class ArchivematicaAPIClient(object):\n",
                "    \"\"\"\n",
                "    A client for interacting with Matica's API for file uploading, transferring, and ingesting processes.\n",
                "    \"\"\"\n",
                "\n",
                "    TIME_SPAN = 2  # Time to wait in loops, in seconds\n",
                "\n",
                "    def __init__(self, dashboard_url: str, dashboard_username: str, dashboard_api_key: str, storage_service_url: str, storage_service_username: str, storage_service_password: str):\n",
                "        \"\"\"\n",
                "        Initializes the ArchivematicaAPIClient with necessary details for API interactions.\n",
                "\n",
                "        Args:\n",
                "            dashboard_url (str): URL of the dashboard.\n",
                "            dashboard_username (str): Username for the dashboard.\n",
                "            dashboard_api_key (str): API key for the dashboard.\n",
                "            storage_service_url (str): URL of the storage service.\n",
                "            storage_service_username (str): Username for the storage service.\n",
                "            storage_service_password (str): Password for the storage service.\n",
                "        \"\"\"\n",
                "\n",
                "        self.dashbord_url = dashboard_url\n",
                "        self.dashboard_username = dashboard_username\n",
                "        self.dashboard_api_key = dashboard_api_key\n",
                "\n",
                "        self.dash_board_headers = {\n",
                "            'Authorization': f'ApiKey {dashboard_username}:{dashboard_api_key}',\n",
                "            \"Content-Type\": \"application/json\"\n",
                "        }\n",
                "\n",
                "        self.dash_board_endpoint = f\"{dashboard_url}/api\"\n",
                "\n",
                "        self.storage_service_url = storage_service_url\n",
                "        self.storage_username = storage_service_username\n",
                "        self.storage_password = storage_service_password\n",
                "    \n",
                "    def v2beta_package(self, transfer_type: str, transfer_accession: str, location_uuid: str, path: str, name: str, processing_config: str) -> str:\n",
                "        \"\"\"\n",
                "        Initiates a file transfer process.\n",
                "\n",
                "        Args:\n",
                "            transfer_type: The type of the transfer.\n",
                "            transfer_accession: The accession number for the transfer.\n",
                "\n",
                "        Returns:\n",
                "            The directory associated with the transfer.\n",
                "        \"\"\"\n",
                "\n",
                "        path = f\"{location_uuid}:{path}\"\n",
                "\n",
                "        path_encoded = base64.b64encode(path.encode()).decode()\n",
                "        data = {\n",
                "            \"name\": name,\n",
                "            \"type\": transfer_type,\n",
                "            \"accession\": transfer_accession,\n",
                "            \"processing_config\": processing_config,\n",
                "            \"path\": path_encoded,\n",
                "        }\n",
                "\n",
                "        response = requests.post(f'{self.dashbord_url}/api/v2beta/package/', headers=self.dash_board_headers, json=data)\n",
                "\n",
                "        self.transfer_UUID = response.json()[\"id\"]\n",
                "        return self.transfer_UUID\n",
                "    \n",
                "    def approve_transfer(self, transfer_type: str, directory: str) -> str:\n",
                "        \"\"\"\n",
                "        Approves a file transfer after initiation.\n",
                "\n",
                "        Args:\n",
                "            transfer_type (str): The type of the transfer.\n",
                "            directory (str): The directory associated with the transfer.\n",
                "\n",
                "        Returns:\n",
                "            Optional[str]: The UUID of the approved transfer, if available.\n",
                "        \"\"\"\n",
                "        while True:\n",
                "            data = {\"type\": transfer_type, \"directory\": directory}\n",
                "            response = requests.post(f'{self.dashbord_url}/api/transfer/approve/', headers=self.dash_board_headers, data=data)\n",
                "            if \"uuid\" in response.json():\n",
                "                self.transfer_UUID = response.json()[\"uuid\"]\n",
                "                break\n",
                "            time.sleep(self.TIME_SPAN)\n",
                "        return self.transfer_UUID\n",
                "\n",
                "    def check_transfer_status(self, transfer_UUID: str) -> str:\n",
                "        \"\"\"\n",
                "        Checks the status of a file transfer until it is no longer processing.\n",
                "\n",
                "        Args:\n",
                "            transfer_UUID: The UUID of the transfer to check.\n",
                "\n",
                "        Returns:\n",
                "            The SIP UUID of the transfer.\n",
                "        \"\"\"\n",
                "        while True:\n",
                "            response = requests.get(f'{self.dashbord_url}/api/transfer/status/{transfer_UUID}', headers=self.dash_board_headers)\n",
                "            r = response.json()\n",
                "            if \"status\" in r and r[\"status\"] != \"PROCESSING\":\n",
                "                self.sip_uuid = r[\"sip_uuid\"]\n",
                "                break\n",
                "            time.sleep(self.TIME_SPAN)\n",
                "        return self.sip_uuid\n",
                "\n",
                "    def ingest(self, sip_UUID: str) -> str:\n",
                "        \"\"\"\n",
                "        Waits for the ingestion process to complete and returns the UUID of the ingested AIP.\n",
                "\n",
                "        Args:\n",
                "            sip_UUID: The SIP UUID to ingest.\n",
                "\n",
                "        Returns:\n",
                "            The UUID of the ingested AIP.\n",
                "        \"\"\"\n",
                "        while True:\n",
                "            response = requests.get(f'{self.dash_board_endpoint}/ingest/status/{sip_UUID}', headers=self.dash_board_headers)\n",
                "            r = response.json()\n",
                "            if \"status\" in r and r[\"status\"] != \"PROCESSING\":\n",
                "                return r[\"uuid\"]\n",
                "            time.sleep(self.TIME_SPAN)\n",
                "\n",
                "    def get_aip_url(self, ingest_UUID: str) -> str:\n",
                "        \"\"\"\n",
                "        Constructs and returns the URL for downloading the ingested AIP.\n",
                "\n",
                "        Args:\n",
                "            ingest_UUID: The UUID of the ingested AIP.\n",
                "\n",
                "        Returns:\n",
                "            The URL for downloading the AIP.\n",
                "        \"\"\"\n",
                "        endpoint = self.storage_service_url + \"/api\"\n",
                "        url = f\"{endpoint}/v2/file/{ingest_UUID}/download/\"\n",
                "        return url\n",
                "    \n",
                "    def get_current_full_path(self, ingest_UUID: str) -> Optional[str]:\n",
                "        \"\"\"\n",
                "        Retrieves the current full path of the ingested AIP by making an API call.\n",
                "\n",
                "        Args:\n",
                "            ingest_UUID (str): The UUID of the ingested AIP.\n",
                "\n",
                "        Returns:\n",
                "            Optional[str]: The current full path of the AIP if the request is successful, None otherwise.\n",
                "        \"\"\"\n",
                "        endpoint = self.storage_service_url + \"/api\"\n",
                "        url = f\"{endpoint}/v2/file/{ingest_UUID}/\"\n",
                "\n",
                "        try:\n",
                "            response = requests.get(url, auth=HTTPBasicAuth(self.storage_username, self.storage_password))\n",
                "            response.raise_for_status()  # Raises an exception for 4XX or 5XX errors\n",
                "            return response.json().get(\"current_full_path\")\n",
                "        except requests.RequestException as e:\n",
                "            print(f\"Error retrieving current full path: {e}\")\n",
                "            return None\n"
            ]
        },
        {
            "cell_type": "code",
            "execution_count": null,
            "metadata": {},
            "outputs": [
                {
                    "data": {
                        "text/markdown": [
                            "---\n",
                            "\n",
                            "[source](https://github.com/nakamura196/matica_tools/blob/main/matica_tools/api.py#L18){target=\"_blank\" style=\"float:right; font-size:smaller\"}\n",
                            "\n",
                            "### ArchivematicaAPIClient\n",
                            "\n",
                            ">      ArchivematicaAPIClient (dashboard_url:str, dashboard_username:str,\n",
                            ">                       dashboard_api_key:str, storage_service_url:str,\n",
                            ">                       storage_service_username:str,\n",
                            ">                       storage_service_password:str)\n",
                            "\n",
                            "A client for interacting with Matica's API for file uploading, transferring, and ingesting processes."
                        ],
                        "text/plain": [
                            "---\n",
                            "\n",
                            "[source](https://github.com/nakamura196/matica_tools/blob/main/matica_tools/api.py#L18){target=\"_blank\" style=\"float:right; font-size:smaller\"}\n",
                            "\n",
                            "### ArchivematicaAPIClient\n",
                            "\n",
                            ">      ArchivematicaAPIClient (dashboard_url:str, dashboard_username:str,\n",
                            ">                       dashboard_api_key:str, storage_service_url:str,\n",
                            ">                       storage_service_username:str,\n",
                            ">                       storage_service_password:str)\n",
                            "\n",
                            "A client for interacting with Matica's API for file uploading, transferring, and ingesting processes."
                        ]
                    },
                    "execution_count": null,
                    "metadata": {},
                    "output_type": "execute_result"
                }
            ],
            "source": [
                "show_doc(ArchivematicaAPIClient)"
            ]
        },
        {
            "cell_type": "markdown",
            "metadata": {},
            "source": [
                "First import the `ArchivematicaAPIClient` class.\n",
                "\n",
                "```python\n",
                "from matica_api_client import ArchivematicaAPIClient\n",
                "```\n",
                "\n",
                "To initialise the `ArchivematicaAPIClient` you need to provide the options.\n",
                "\n",
                "`.env` file\n",
                "\n",
                "```txt\n",
                "DASHBOARD_URL=http://localhost:62080\n",
                "DASHBOARD_USERNAME=test\n",
                "DASHBOARD_API_KEY=test\n",
                "\n",
                "STORAGE_SERVICE_URL=http://localhost:62081\n",
                "STORAGE_SERVICE_USERNAME=test\n",
                "STORAGE_SERVICE_PASSWORD=test\n",
                "```\n",
                "\n",
                "```python\n",
                "matica = ArchivematicaAPIClient(dashboard_url, dashboard_username, dashboard_api_key, storage_service_url, storage_service_username, storage_service_password)\n",
                "```"
            ]
        },
        {
            "cell_type": "markdown",
            "metadata": {},
            "source": [
                "# Transfer"
            ]
        },
        {
            "cell_type": "markdown",
            "metadata": {},
            "source": [
                "Initiates a file transfer process."
            ]
        },
        {
            "cell_type": "code",
            "execution_count": null,
            "metadata": {},
            "outputs": [
                {
                    "data": {
                        "text/markdown": [
                            "---\n",
                            "\n",
                            "[source](https://github.com/nakamura196/matica_tools/blob/main/matica_tools/api.py#L184){target=\"_blank\" style=\"float:right; font-size:smaller\"}\n",
                            "\n",
                            "### ArchivematicaAPIClient.v2beta_package\n",
                            "\n",
                            ">      ArchivematicaAPIClient.v2beta_package (transfer_type:str,\n",
                            ">                                      transfer_accession:str,\n",
                            ">                                      location_uuid:str, path:str, name:str,\n",
                            ">                                      processing_config:str)\n",
                            "\n",
                            "Initiates a file transfer process.\n",
                            "\n",
                            "Args:\n",
                            "    transfer_type: The type of the transfer.\n",
                            "    transfer_accession: The accession number for the transfer.\n",
                            "\n",
                            "Returns:\n",
                            "    The directory associated with the transfer."
                        ],
                        "text/plain": [
                            "---\n",
                            "\n",
                            "[source](https://github.com/nakamura196/matica_tools/blob/main/matica_tools/api.py#L184){target=\"_blank\" style=\"float:right; font-size:smaller\"}\n",
                            "\n",
                            "### ArchivematicaAPIClient.v2beta_package\n",
                            "\n",
                            ">      ArchivematicaAPIClient.v2beta_package (transfer_type:str,\n",
                            ">                                      transfer_accession:str,\n",
                            ">                                      location_uuid:str, path:str, name:str,\n",
                            ">                                      processing_config:str)\n",
                            "\n",
                            "Initiates a file transfer process.\n",
                            "\n",
                            "Args:\n",
                            "    transfer_type: The type of the transfer.\n",
                            "    transfer_accession: The accession number for the transfer.\n",
                            "\n",
                            "Returns:\n",
                            "    The directory associated with the transfer."
                        ]
                    },
                    "execution_count": null,
                    "metadata": {},
                    "output_type": "execute_result"
                }
            ],
            "source": [
                "show_doc(ArchivematicaAPIClient.v2beta_package)"
            ]
        },
        {
            "cell_type": "code",
            "execution_count": null,
            "metadata": {},
            "outputs": [
                {
                    "data": {
                        "text/markdown": [
                            "---\n",
                            "\n",
                            "[source](https://github.com/nakamura196/matica_tools/blob/main/matica_tools/api.py#L247){target=\"_blank\" style=\"float:right; font-size:smaller\"}\n",
                            "\n",
                            "### ArchivematicaAPIClient.approve_transfer\n",
                            "\n",
                            ">      ArchivematicaAPIClient.approve_transfer (transfer_type:str, directory:str)\n",
                            "\n",
                            "Approves a file transfer after initiation.\n",
                            "\n",
                            "Args:\n",
                            "    transfer_type (str): The type of the transfer.\n",
                            "    directory (str): The directory associated with the transfer.\n",
                            "\n",
                            "Returns:\n",
                            "    Optional[str]: The UUID of the approved transfer, if available."
                        ],
                        "text/plain": [
                            "---\n",
                            "\n",
                            "[source](https://github.com/nakamura196/matica_tools/blob/main/matica_tools/api.py#L247){target=\"_blank\" style=\"float:right; font-size:smaller\"}\n",
                            "\n",
                            "### ArchivematicaAPIClient.approve_transfer\n",
                            "\n",
                            ">      ArchivematicaAPIClient.approve_transfer (transfer_type:str, directory:str)\n",
                            "\n",
                            "Approves a file transfer after initiation.\n",
                            "\n",
                            "Args:\n",
                            "    transfer_type (str): The type of the transfer.\n",
                            "    directory (str): The directory associated with the transfer.\n",
                            "\n",
                            "Returns:\n",
                            "    Optional[str]: The UUID of the approved transfer, if available."
                        ]
                    },
                    "execution_count": null,
                    "metadata": {},
                    "output_type": "execute_result"
                }
            ],
            "source": [
                "show_doc(ArchivematicaAPIClient.approve_transfer)"
            ]
        },
        {
            "cell_type": "code",
            "execution_count": null,
            "metadata": {},
            "outputs": [
                {
                    "data": {
                        "text/markdown": [
                            "---\n",
                            "\n",
                            "[source](https://github.com/nakamura196/matica_tools/blob/main/matica_tools/api.py#L287){target=\"_blank\" style=\"float:right; font-size:smaller\"}\n",
                            "\n",
                            "### ArchivematicaAPIClient.check_transfer_status\n",
                            "\n",
                            ">      ArchivematicaAPIClient.check_transfer_status (transfer_UUID:str)\n",
                            "\n",
                            "Checks the status of a file transfer until it is no longer processing.\n",
                            "\n",
                            "Args:\n",
                            "    transfer_UUID: The UUID of the transfer to check.\n",
                            "\n",
                            "Returns:\n",
                            "    The SIP UUID of the transfer."
                        ],
                        "text/plain": [
                            "---\n",
                            "\n",
                            "[source](https://github.com/nakamura196/matica_tools/blob/main/matica_tools/api.py#L287){target=\"_blank\" style=\"float:right; font-size:smaller\"}\n",
                            "\n",
                            "### ArchivematicaAPIClient.check_transfer_status\n",
                            "\n",
                            ">      ArchivematicaAPIClient.check_transfer_status (transfer_UUID:str)\n",
                            "\n",
                            "Checks the status of a file transfer until it is no longer processing.\n",
                            "\n",
                            "Args:\n",
                            "    transfer_UUID: The UUID of the transfer to check.\n",
                            "\n",
                            "Returns:\n",
                            "    The SIP UUID of the transfer."
                        ]
                    },
                    "execution_count": null,
                    "metadata": {},
                    "output_type": "execute_result"
                }
            ],
            "source": [
                "show_doc(ArchivematicaAPIClient.check_transfer_status)"
            ]
        },
        {
            "cell_type": "markdown",
            "metadata": {},
            "source": [
                "# Ingest"
            ]
        },
        {
            "cell_type": "code",
            "execution_count": null,
            "metadata": {},
            "outputs": [
                {
                    "data": {
                        "text/markdown": [
                            "---\n",
                            "\n",
                            "[source](https://github.com/nakamura196/matica_tools/blob/main/matica_tools/api.py#L306){target=\"_blank\" style=\"float:right; font-size:smaller\"}\n",
                            "\n",
                            "### ArchivematicaAPIClient.ingest\n",
                            "\n",
                            ">      ArchivematicaAPIClient.ingest (sip_UUID:str)\n",
                            "\n",
                            "Waits for the ingestion process to complete and returns the UUID of the ingested AIP.\n",
                            "\n",
                            "Args:\n",
                            "    sip_UUID: The SIP UUID to ingest.\n",
                            "\n",
                            "Returns:\n",
                            "    The UUID of the ingested AIP."
                        ],
                        "text/plain": [
                            "---\n",
                            "\n",
                            "[source](https://github.com/nakamura196/matica_tools/blob/main/matica_tools/api.py#L306){target=\"_blank\" style=\"float:right; font-size:smaller\"}\n",
                            "\n",
                            "### ArchivematicaAPIClient.ingest\n",
                            "\n",
                            ">      ArchivematicaAPIClient.ingest (sip_UUID:str)\n",
                            "\n",
                            "Waits for the ingestion process to complete and returns the UUID of the ingested AIP.\n",
                            "\n",
                            "Args:\n",
                            "    sip_UUID: The SIP UUID to ingest.\n",
                            "\n",
                            "Returns:\n",
                            "    The UUID of the ingested AIP."
                        ]
                    },
                    "execution_count": null,
                    "metadata": {},
                    "output_type": "execute_result"
                }
            ],
            "source": [
                "show_doc(ArchivematicaAPIClient.ingest)"
            ]
        },
        {
            "cell_type": "markdown",
            "metadata": {},
            "source": [
                "# Storage Service"
            ]
        },
        {
            "cell_type": "code",
            "execution_count": null,
            "metadata": {},
            "outputs": [
                {
                    "data": {
                        "text/markdown": [
                            "---\n",
                            "\n",
                            "[source](https://github.com/nakamura196/matica_tools/blob/main/matica_tools/api.py#L323){target=\"_blank\" style=\"float:right; font-size:smaller\"}\n",
                            "\n",
                            "### ArchivematicaAPIClient.get_aip_url\n",
                            "\n",
                            ">      ArchivematicaAPIClient.get_aip_url (ingest_UUID:str)\n",
                            "\n",
                            "Constructs and returns the URL for downloading the ingested AIP.\n",
                            "\n",
                            "Args:\n",
                            "    ingest_UUID: The UUID of the ingested AIP.\n",
                            "\n",
                            "Returns:\n",
                            "    The URL for downloading the AIP."
                        ],
                        "text/plain": [
                            "---\n",
                            "\n",
                            "[source](https://github.com/nakamura196/matica_tools/blob/main/matica_tools/api.py#L323){target=\"_blank\" style=\"float:right; font-size:smaller\"}\n",
                            "\n",
                            "### ArchivematicaAPIClient.get_aip_url\n",
                            "\n",
                            ">      ArchivematicaAPIClient.get_aip_url (ingest_UUID:str)\n",
                            "\n",
                            "Constructs and returns the URL for downloading the ingested AIP.\n",
                            "\n",
                            "Args:\n",
                            "    ingest_UUID: The UUID of the ingested AIP.\n",
                            "\n",
                            "Returns:\n",
                            "    The URL for downloading the AIP."
                        ]
                    },
                    "execution_count": null,
                    "metadata": {},
                    "output_type": "execute_result"
                }
            ],
            "source": [
                "show_doc(ArchivematicaAPIClient.get_aip_url)"
            ]
        },
        {
            "cell_type": "code",
            "execution_count": null,
            "metadata": {},
            "outputs": [
                {
                    "data": {
                        "text/markdown": [
                            "---\n",
                            "\n",
                            "### ArchivematicaAPIClient.get_current_full_path\n",
                            "\n",
                            ">      ArchivematicaAPIClient.get_current_full_path (ingest_UUID:str)\n",
                            "\n",
                            "Retrieves the current full path of the ingested AIP by making an API call.\n",
                            "\n",
                            "Args:\n",
                            "    ingest_UUID (str): The UUID of the ingested AIP.\n",
                            "\n",
                            "Returns:\n",
                            "    Optional[str]: The current full path of the AIP if the request is successful, None otherwise."
                        ],
                        "text/plain": [
                            "---\n",
                            "\n",
                            "### ArchivematicaAPIClient.get_current_full_path\n",
                            "\n",
                            ">      ArchivematicaAPIClient.get_current_full_path (ingest_UUID:str)\n",
                            "\n",
                            "Retrieves the current full path of the ingested AIP by making an API call.\n",
                            "\n",
                            "Args:\n",
                            "    ingest_UUID (str): The UUID of the ingested AIP.\n",
                            "\n",
                            "Returns:\n",
                            "    Optional[str]: The current full path of the AIP if the request is successful, None otherwise."
                        ]
                    },
                    "execution_count": null,
                    "metadata": {},
                    "output_type": "execute_result"
                }
            ],
            "source": [
                "show_doc(ArchivematicaAPIClient.get_current_full_path)"
            ]
        },
        {
            "cell_type": "code",
            "execution_count": null,
            "metadata": {},
            "outputs": [],
            "source": [
                "#| hide\n",
                "import nbdev; nbdev.nbdev_export()"
            ]
        }
    ],
    "metadata": {
        "kernelspec": {
            "display_name": "python3",
            "language": "python",
            "name": "python3"
        }
    },
    "nbformat": 4,
    "nbformat_minor": 4
}