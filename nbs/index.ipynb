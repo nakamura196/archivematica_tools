{
 "cells": [
  {
   "cell_type": "code",
   "execution_count": null,
   "metadata": {},
   "outputs": [
    {
     "name": "stdout",
     "output_type": "stream",
     "text": [
      "The autoreload extension is already loaded. To reload it, use:\n",
      "  %reload_ext autoreload\n"
     ]
    }
   ],
   "source": [
    "#| hide\n",
    "%load_ext autoreload\n",
    "%autoreload 2\n",
    "from archivematica_tools.api import *"
   ]
  },
  {
   "attachments": {},
   "cell_type": "markdown",
   "metadata": {},
   "source": [
    "# Archivematica Tools\n",
    "\n",
    "> Tools for working with data in an instance of Archivematica"
   ]
  },
  {
   "attachments": {},
   "cell_type": "markdown",
   "metadata": {},
   "source": [
    "## Install"
   ]
  },
  {
   "attachments": {},
   "cell_type": "markdown",
   "metadata": {},
   "source": [
    "```sh\n",
    "pip install matica_tools\n",
    "```"
   ]
  },
  {
   "attachments": {},
   "cell_type": "markdown",
   "metadata": {},
   "source": [
    "## How to use"
   ]
  },
  {
   "attachments": {},
   "cell_type": "markdown",
   "metadata": {},
   "source": [
    "[See the documentation](api.html) for full details of the Archivematica API Client."
   ]
  },
  {
   "cell_type": "code",
   "execution_count": null,
   "metadata": {},
   "outputs": [],
   "source": [
    "from dotenv import load_dotenv\n",
    "import os"
   ]
  },
  {
   "cell_type": "code",
   "execution_count": null,
   "metadata": {},
   "outputs": [],
   "source": [
    "load_dotenv(override=True)\n",
    "\n",
    "dashboard_url = os.environ.get(\"DASHBOARD_URL\")\n",
    "dashboard_username = os.environ.get(\"DASHBOARD_USERNAME\")\n",
    "dashboard_api_key = os.environ.get(\"DASHBOARD_API_KEY\")\n",
    "\n",
    "storage_service_url = os.environ.get(\"STORAGE_SERVICE_URL\")\n",
    "storage_service_username = os.environ.get(\"STORAGE_SERVICE_USERNAME\")\n",
    "storage_service_password = os.environ.get(\"STORAGE_SERVICE_PASSWORD\")"
   ]
  },
  {
   "cell_type": "code",
   "execution_count": null,
   "metadata": {},
   "outputs": [],
   "source": [
    "client = MaticaAPIClient(dashboard_url, dashboard_username, dashboard_api_key, storage_service_url, storage_service_username, storage_service_password)"
   ]
  },
  {
   "cell_type": "code",
   "execution_count": null,
   "metadata": {},
   "outputs": [
    {
     "data": {
      "text/plain": [
       "'2d68be44-48f4-4b15-8db8-d8d1250f50bf'"
      ]
     },
     "execution_count": null,
     "metadata": {},
     "output_type": "execute_result"
    }
   ],
   "source": [
    "transfer_UUID = client.v2beta_package(\"standard\", \"\", \"bfe37714-61c2-432e-b375-af9253e114da\", \"/home/archivematica/archivematica-sampledata/SampleTransfers/DemoTransferCSV\", \"transfer v2 demo\", \"automated\")\n",
    "transfer_UUID"
   ]
  },
  {
   "cell_type": "markdown",
   "metadata": {},
   "source": [
    "See [the documentation](api.html) for more examples."
   ]
  },
  {
   "cell_type": "markdown",
   "metadata": {},
   "source": [
    "----\n",
    "\n",
    "Created by [Satoru Nakamura](https://researchmap.jp/nakamura.satoru?lang=en)."
   ]
  }
 ],
 "metadata": {
  "kernelspec": {
   "display_name": "python3",
   "language": "python",
   "name": "python3"
  }
 },
 "nbformat": 4,
 "nbformat_minor": 4
}
