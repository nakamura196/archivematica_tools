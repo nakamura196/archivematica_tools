{
 "cells": [
  {
   "cell_type": "code",
   "execution_count": null,
   "metadata": {},
   "outputs": [
    {
     "name": "stdout",
     "output_type": "stream",
     "text": [
      "The autoreload extension is already loaded. To reload it, use:\n",
      "  %reload_ext autoreload\n"
     ]
    }
   ],
   "source": [
    "#| hide\n",
    "%load_ext autoreload\n",
    "%autoreload 2\n",
    "from archivematica_tools.api import *"
   ]
  },
  {
   "attachments": {},
   "cell_type": "markdown",
   "metadata": {},
   "source": [
    "# Archivematica Tools\n",
    "\n",
    "> Tools for working with data in an instance of Archivematica"
   ]
  },
  {
   "attachments": {},
   "cell_type": "markdown",
   "metadata": {},
   "source": [
    "## Install"
   ]
  },
  {
   "attachments": {},
   "cell_type": "markdown",
   "metadata": {},
   "source": [
    "```sh\n",
    "pip install archivematica_tools\n",
    "```"
   ]
  },
  {
   "attachments": {},
   "cell_type": "markdown",
   "metadata": {},
   "source": [
    "## How to use"
   ]
  },
  {
   "attachments": {},
   "cell_type": "markdown",
   "metadata": {},
   "source": [
    "[See the documentation](https://nakamura196.github.io/archivematica_tools/api.html) for full details of the Archivematica API Client."
   ]
  },
  {
   "cell_type": "code",
   "execution_count": null,
   "metadata": {},
   "outputs": [],
   "source": [
    "from dotenv import load_dotenv\n",
    "import os"
   ]
  },
  {
   "cell_type": "code",
   "execution_count": null,
   "metadata": {},
   "outputs": [],
   "source": [
    "load_dotenv(override=True)\n",
    "\n",
    "dashboard_url = os.environ.get(\"DASHBOARD_URL\")\n",
    "dashboard_username = os.environ.get(\"DASHBOARD_USERNAME\")\n",
    "dashboard_api_key = os.environ.get(\"DASHBOARD_API_KEY\")\n",
    "\n",
    "storage_service_url = os.environ.get(\"STORAGE_SERVICE_URL\")\n",
    "storage_service_username = os.environ.get(\"STORAGE_SERVICE_USERNAME\")\n",
    "storage_service_password = os.environ.get(\"STORAGE_SERVICE_PASSWORD\")"
   ]
  },
  {
   "cell_type": "code",
   "execution_count": null,
   "metadata": {},
   "outputs": [],
   "source": [
    "client = ArchivematicaAPIClient(dashboard_url, dashboard_username, dashboard_api_key, storage_service_url, storage_service_username, storage_service_password)"
   ]
  },
  {
   "cell_type": "markdown",
   "metadata": {},
   "source": [
    "## Transfer"
   ]
  },
  {
   "cell_type": "code",
   "execution_count": null,
   "metadata": {},
   "outputs": [
    {
     "data": {
      "text/plain": [
       "'42cb1fb3-e6c5-403d-b7d9-57180746d52b'"
      ]
     },
     "execution_count": null,
     "metadata": {},
     "output_type": "execute_result"
    }
   ],
   "source": [
    "transfer_UUID = client.v2beta_package(\"standard\", \"\", \"bfe37714-61c2-432e-b375-af9253e114da\", \"/home/archivematica/archivematica-sampledata/SampleTransfers/DemoTransferCSV\", \"transfer v2 demo\", \"automated\")\n",
    "transfer_UUID"
   ]
  },
  {
   "cell_type": "markdown",
   "metadata": {},
   "source": [
    "### Delete transfers"
   ]
  },
  {
   "cell_type": "code",
   "execution_count": null,
   "metadata": {},
   "outputs": [
    {
     "data": {
      "text/plain": [
       "{'results': ['c0e3d7e5-217c-4d01-a4f4-6a9539d148b7'],\n",
       " 'message': 'Fetched completed transfers successfully.'}"
      ]
     },
     "execution_count": null,
     "metadata": {},
     "output_type": "execute_result"
    }
   ],
   "source": [
    "res_transfer_completed = client.transfer_completed()\n",
    "res_transfer_completed"
   ]
  },
  {
   "cell_type": "code",
   "execution_count": null,
   "metadata": {},
   "outputs": [
    {
     "data": {
      "text/plain": [
       "[{'removed': True}]"
      ]
     },
     "execution_count": null,
     "metadata": {},
     "output_type": "execute_result"
    }
   ],
   "source": [
    "res_transfer_delete = client.transfer_delete(res_transfer_completed[\"results\"])\n",
    "res_transfer_delete"
   ]
  },
  {
   "cell_type": "markdown",
   "metadata": {},
   "source": [
    "## Ingest"
   ]
  },
  {
   "cell_type": "markdown",
   "metadata": {},
   "source": [
    "### Delete ingests"
   ]
  },
  {
   "cell_type": "code",
   "execution_count": null,
   "metadata": {},
   "outputs": [
    {
     "data": {
      "text/plain": [
       "{'results': ['a6a9f4fb-0499-423a-8a05-fcaa5896ad5d'],\n",
       " 'message': 'Fetched completed ingests successfully.'}"
      ]
     },
     "execution_count": null,
     "metadata": {},
     "output_type": "execute_result"
    }
   ],
   "source": [
    "res_ingest_completed = client.ingest_completed()\n",
    "res_ingest_completed"
   ]
  },
  {
   "cell_type": "code",
   "execution_count": null,
   "metadata": {},
   "outputs": [
    {
     "data": {
      "text/plain": [
       "[{'removed': True}]"
      ]
     },
     "execution_count": null,
     "metadata": {},
     "output_type": "execute_result"
    }
   ],
   "source": [
    "res_ingest_delete = client.ingest_delete(res_ingest_completed[\"results\"])\n",
    "res_ingest_delete"
   ]
  },
  {
   "cell_type": "markdown",
   "metadata": {},
   "source": [
    "## Storage Service"
   ]
  },
  {
   "cell_type": "markdown",
   "metadata": {},
   "source": [
    "### Package"
   ]
  },
  {
   "cell_type": "code",
   "execution_count": null,
   "metadata": {},
   "outputs": [],
   "source": [
    "# res_v2_file = client.v2_file(size=100)\n",
    "# res_v2_file"
   ]
  },
  {
   "cell_type": "code",
   "execution_count": null,
   "metadata": {},
   "outputs": [],
   "source": [
    "pipeline = \"628f82bd-4ec2-4643-b85d-fd8e1db84c27\"\n",
    "user_id = 1\n",
    "user_email = \"test@test.com\"\n",
    "event_reason = \"demo\""
   ]
  },
  {
   "cell_type": "code",
   "execution_count": null,
   "metadata": {},
   "outputs": [],
   "source": [
    "'''\n",
    "fileUUIDs = []\n",
    "for objct in res_v2_file[\"objects\"]:\n",
    "    fileUUIDs.append(objct[\"uuid\"])\n",
    "\n",
    "# res_v2_file_delete = client.v2_file_delete_aip(fileUUIDs, event_reason, pipeline, user_id, user_email)\n",
    "# res_v2_file_delete\n",
    "'''"
   ]
  },
  {
   "cell_type": "code",
   "execution_count": null,
   "metadata": {},
   "outputs": [
    {
     "data": {
      "text/plain": [
       "'\\nfileUUIDs = []\\nfor objct in res_v2_file[\"objects\"]:\\n    fileUUIDs.append(objct[\"uuid\"])\\n\\nres_v2_file_delete = client.v2_file_delete(fileUUIDs)\\nres_v2_file_delete\\n'"
      ]
     },
     "execution_count": null,
     "metadata": {},
     "output_type": "execute_result"
    }
   ],
   "source": [
    "'''\n",
    "fileUUIDs = []\n",
    "for objct in res_v2_file[\"objects\"]:\n",
    "    fileUUIDs.append(objct[\"uuid\"])\n",
    "\n",
    "res_v2_file_delete = client.v2_file_delete(fileUUIDs)\n",
    "res_v2_file_delete\n",
    "'''"
   ]
  },
  {
   "cell_type": "markdown",
   "metadata": {},
   "source": [
    "See [the documentation](https://nakamura196.github.io/archivematica_tools/api.html) for more examples."
   ]
  },
  {
   "cell_type": "markdown",
   "metadata": {},
   "source": [
    "----\n",
    "\n",
    "Created by [Satoru Nakamura](https://researchmap.jp/nakamura.satoru?lang=en)."
   ]
  }
 ],
 "metadata": {
  "kernelspec": {
   "display_name": "python3",
   "language": "python",
   "name": "python3"
  }
 },
 "nbformat": 4,
 "nbformat_minor": 4
}
