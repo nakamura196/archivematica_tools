{
 "cells": [
  {
   "cell_type": "code",
   "execution_count": null,
   "metadata": {},
   "outputs": [],
   "source": [
    "# | default_exp vis"
   ]
  },
  {
   "cell_type": "markdown",
   "metadata": {},
   "source": [
    "# AIP Visualization\n",
    "\n",
    "> Tools to visualize AIP\n"
   ]
  },
  {
   "cell_type": "code",
   "execution_count": null,
   "metadata": {},
   "outputs": [],
   "source": [
    "# | hide\n",
    "from nbdev.showdoc import *\n"
   ]
  },
  {
   "cell_type": "code",
   "execution_count": null,
   "metadata": {},
   "outputs": [],
   "source": [
    "# | export\n",
    "import boto3\n",
    "import os\n",
    "import py7zr\n",
    "import xml.etree.ElementTree as ET\n",
    "from dotenv import load_dotenv\n",
    "import os\n",
    "from glob import glob\n",
    "from mets_tools.core import METSFile"
   ]
  },
  {
   "cell_type": "code",
   "execution_count": null,
   "metadata": {},
   "outputs": [],
   "source": [
    "# | export\n",
    "class VisClient:\n",
    "    \"\"\"\n",
    "    Client for visualizing AIPs.\n",
    "    \"\"\"\n",
    "\n",
    "    @staticmethod\n",
    "    def main(uuid, env_path=None):\n",
    "        \"\"\"\n",
    "        Main function to visualize an AIP.\n",
    "\n",
    "        Args:\n",
    "            uuid: The UUID of the AIP to visualize.\n",
    "            env_path: The path to the environment file.\n",
    "        Returns:\n",
    "        \"\"\"\n",
    "\n",
    "        if env_path:\n",
    "            load_dotenv(override=True, dotenv_path=env_path)\n",
    "        else:\n",
    "            load_dotenv(override=True)\n",
    "\n",
    "        endpoint_url = os.getenv(\"OS_ENDPOINT\")\n",
    "        aws_access_key_id = os.getenv(\"AWS_ACCESS_KEY_ID\")\n",
    "        aws_secret_access_key = os.getenv(\"AWS_SECRET_ACCESS_KEY\")\n",
    "        bucket_name = os.getenv(\"OS_BUCKET_NAME\")\n",
    "        aip_prefix = os.getenv(\"OS_AIP_PREFIX\")\n",
    "        \n",
    "        vis = VisClient(endpoint_url, aws_access_key_id, aws_secret_access_key, bucket_name, aip_prefix)\n",
    "        ins = vis.visualize(uuid)\n",
    "        return ins\n",
    "\n",
    "    def __init__(self, endpoint_url: str, aws_access_key_id: str, aws_secret_access_key: str, bucket_name: str, aip_prefix: str):\n",
    "        \"\"\"\n",
    "        Initialize the VisClient.\n",
    "\n",
    "        Args:\n",
    "            endpoint_url: The URL of the endpoint.\n",
    "            aws_access_key_id: The access key ID for AWS.\n",
    "            aws_secret_access_key: The secret access key for AWS.\n",
    "            bucket_name: The name of the bucket.\n",
    "            aip_prefix: The prefix of the AIP.\n",
    "        \"\"\"\n",
    "        self.endpoint_url = endpoint_url\n",
    "        self.aws_access_key_id = aws_access_key_id\n",
    "        self.aws_secret_access_key = aws_secret_access_key\n",
    "        self.bucket_name = bucket_name\n",
    "        self.aip_prefix = aip_prefix\n",
    "\n",
    "    def visualize(self, uuid):\n",
    "        \"\"\"\n",
    "        Visualize an AIP.\n",
    "\n",
    "        Args:\n",
    "            uuid: The UUID of the AIP to visualize.\n",
    "\n",
    "        Returns:\n",
    "        \"\"\"\n",
    "        local_file = self.download_data(uuid, self.bucket_name)\n",
    "        ins = METSFile(local_file)\n",
    "        ins.parse_mets()\n",
    "\n",
    "        return ins\n",
    "    \n",
    "    def download_zip(self, uuid, bucket_name, zip_dir = \"./zip_dir\"):\n",
    "        \"\"\"\n",
    "        Download the zip file for an AIP.\n",
    "\n",
    "        Args:\n",
    "            uuid: The UUID of the AIP to download.\n",
    "            bucket_name: The name of the bucket.\n",
    "            zip_dir: The directory to save the zip file.\n",
    "\n",
    "        Returns:\n",
    "            The path to the zip file.\n",
    "        \"\"\"\n",
    "\n",
    "        uuid_cleaned = uuid.replace('-', '')\n",
    "        chunks_cleaned = [uuid_cleaned[i:i+4] for i in range(0, len(uuid_cleaned), 4)]\n",
    "        # chunks_cleaned\n",
    "        \n",
    "        key_prefix = f\"{self.aip_prefix}/{'/'.join(chunks_cleaned)}/\"\n",
    "        \n",
    "        s3_client = boto3.client(\n",
    "            's3',\n",
    "            endpoint_url=self.endpoint_url,\n",
    "            aws_access_key_id=self.aws_access_key_id,\n",
    "            aws_secret_access_key=self.aws_secret_access_key\n",
    "        )\n",
    "        \n",
    "        # 指定されたプレフィックス内のファイルをリストアップ\n",
    "        response = s3_client.list_objects_v2(Bucket=bucket_name, Prefix=key_prefix)\n",
    "\n",
    "        s3_key = \"\"\n",
    "        \n",
    "        # ファイルリストを表示\n",
    "        if 'Contents' in response:\n",
    "            for obj in response['Contents']:\n",
    "                # print(obj['Key'])\n",
    "                s3_key = obj['Key']\n",
    "        else:\n",
    "            print('指定のプレフィックス内にファイルが見つかりませんでした。')\n",
    "\n",
    "        if s3_key == \"\":\n",
    "            return\n",
    "        \n",
    "        # ダウンロード先のローカルファイルパス\n",
    "        local_file = zip_dir + \"/\" + s3_key.split(\"/\")[-1]\n",
    "\n",
    "        os.makedirs(os.path.dirname(local_file), exist_ok=True)\n",
    "        \n",
    "        # S3からファイルをダウンロード\n",
    "        s3_client.download_file(bucket_name, s3_key, local_file)\n",
    "        print(f\"ファイル {local_file} をダウンロードしました。\")\n",
    "\n",
    "        # pass\n",
    "\n",
    "        return local_file, s3_key\n",
    "\n",
    "    def download_data(self, uuid, bucket_name, zip_dir = \"./zip_dir\", extract_dir = './extracted_files'):\n",
    "        \"\"\"\n",
    "        Download the data for an AIP.\n",
    "\n",
    "        Args:\n",
    "            uuid: The UUID of the AIP to download.\n",
    "            bucket_name: The name of the bucket.\n",
    "            zip_dir: The directory to save the zip file.\n",
    "            extract_dir: The directory to save the extracted files.\n",
    "\n",
    "        Returns:\n",
    "            The path to the extracted METS file.\n",
    "        \"\"\"\n",
    "        \n",
    "        local_file, s3_key = self.download_zip(uuid, bucket_name, zip_dir)\n",
    "        \n",
    "        # 展開先のディレクトリを指定\n",
    "        \n",
    "        os.makedirs(extract_dir, exist_ok=True)\n",
    "\n",
    "        # .7zファイルを展開\n",
    "        with py7zr.SevenZipFile(local_file, mode='r') as archive:\n",
    "            archive.extractall(path=extract_dir)\n",
    "            print(f\"ファイルを {extract_dir} に展開しました。\")\n",
    "\n",
    "        return extract_dir + \"/\" + s3_key.split(\"/\")[-1].replace(\".7z\", \"\") + \"/data/METS.\" + uuid + \".xml\""
   ]
  },
  {
   "cell_type": "code",
   "execution_count": null,
   "metadata": {},
   "outputs": [
    {
     "data": {
      "text/markdown": [
       "---\n",
       "\n",
       "[source](https://github.com/nakamura196/archivematica_tools/blob/main/archivematica_tools/vis.py#L17){target=\"_blank\" style=\"float:right; font-size:smaller\"}\n",
       "\n",
       "### VisClient\n",
       "\n",
       ">      VisClient (endpoint_url:str, aws_access_key_id:str,\n",
       ">                 aws_secret_access_key:str, bucket_name:str, aip_prefix:str)\n",
       "\n",
       "Client for visualizing AIPs."
      ],
      "text/plain": [
       "---\n",
       "\n",
       "[source](https://github.com/nakamura196/archivematica_tools/blob/main/archivematica_tools/vis.py#L17){target=\"_blank\" style=\"float:right; font-size:smaller\"}\n",
       "\n",
       "### VisClient\n",
       "\n",
       ">      VisClient (endpoint_url:str, aws_access_key_id:str,\n",
       ">                 aws_secret_access_key:str, bucket_name:str, aip_prefix:str)\n",
       "\n",
       "Client for visualizing AIPs."
      ]
     },
     "execution_count": null,
     "metadata": {},
     "output_type": "execute_result"
    }
   ],
   "source": [
    "show_doc(VisClient)"
   ]
  },
  {
   "cell_type": "code",
   "execution_count": null,
   "metadata": {},
   "outputs": [
    {
     "data": {
      "text/markdown": [
       "---\n",
       "\n",
       "[source](https://github.com/nakamura196/archivematica_tools/blob/main/archivematica_tools/vis.py#L23){target=\"_blank\" style=\"float:right; font-size:smaller\"}\n",
       "\n",
       "### VisClient.main\n",
       "\n",
       ">      VisClient.main (uuid, env_path=None)\n",
       "\n",
       "Main function to visualize an AIP.\n",
       "\n",
       "Args:\n",
       "    uuid: The UUID of the AIP to visualize.\n",
       "    env_path: The path to the environment file.\n",
       "Returns:"
      ],
      "text/plain": [
       "---\n",
       "\n",
       "[source](https://github.com/nakamura196/archivematica_tools/blob/main/archivematica_tools/vis.py#L23){target=\"_blank\" style=\"float:right; font-size:smaller\"}\n",
       "\n",
       "### VisClient.main\n",
       "\n",
       ">      VisClient.main (uuid, env_path=None)\n",
       "\n",
       "Main function to visualize an AIP.\n",
       "\n",
       "Args:\n",
       "    uuid: The UUID of the AIP to visualize.\n",
       "    env_path: The path to the environment file.\n",
       "Returns:"
      ]
     },
     "execution_count": null,
     "metadata": {},
     "output_type": "execute_result"
    }
   ],
   "source": [
    "show_doc(VisClient.main)"
   ]
  },
  {
   "cell_type": "code",
   "execution_count": null,
   "metadata": {},
   "outputs": [
    {
     "data": {
      "text/markdown": [
       "---\n",
       "\n",
       "[source](https://github.com/nakamura196/archivematica_tools/blob/main/archivematica_tools/vis.py#L80){target=\"_blank\" style=\"float:right; font-size:smaller\"}\n",
       "\n",
       "### VisClient.download_data\n",
       "\n",
       ">      VisClient.download_data (uuid, bucket_name, zip_dir='./zip_dir',\n",
       ">                               extract_dir='./extracted_files')\n",
       "\n",
       "Download the data for an AIP.\n",
       "\n",
       "Args:\n",
       "    uuid: The UUID of the AIP to download.\n",
       "    bucket_name: The name of the bucket.\n",
       "    zip_dir: The directory to save the zip file.\n",
       "    extract_dir: The directory to save the extracted files.\n",
       "\n",
       "Returns:\n",
       "    The path to the extracted METS file."
      ],
      "text/plain": [
       "---\n",
       "\n",
       "[source](https://github.com/nakamura196/archivematica_tools/blob/main/archivematica_tools/vis.py#L80){target=\"_blank\" style=\"float:right; font-size:smaller\"}\n",
       "\n",
       "### VisClient.download_data\n",
       "\n",
       ">      VisClient.download_data (uuid, bucket_name, zip_dir='./zip_dir',\n",
       ">                               extract_dir='./extracted_files')\n",
       "\n",
       "Download the data for an AIP.\n",
       "\n",
       "Args:\n",
       "    uuid: The UUID of the AIP to download.\n",
       "    bucket_name: The name of the bucket.\n",
       "    zip_dir: The directory to save the zip file.\n",
       "    extract_dir: The directory to save the extracted files.\n",
       "\n",
       "Returns:\n",
       "    The path to the extracted METS file."
      ]
     },
     "execution_count": null,
     "metadata": {},
     "output_type": "execute_result"
    }
   ],
   "source": [
    "show_doc(VisClient.download_data)"
   ]
  },
  {
   "cell_type": "code",
   "execution_count": null,
   "metadata": {},
   "outputs": [],
   "source": [
    "#| hide\n",
    "import nbdev; nbdev.nbdev_export()"
   ]
  }
 ],
 "metadata": {
  "kernelspec": {
   "display_name": "python3",
   "language": "python",
   "name": "python3"
  }
 },
 "nbformat": 4,
 "nbformat_minor": 2
}
